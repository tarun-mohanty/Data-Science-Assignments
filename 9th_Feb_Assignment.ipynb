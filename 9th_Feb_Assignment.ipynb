{
 "cells": [
  {
   "cell_type": "markdown",
   "id": "708e828c-fadf-4b50-b0a1-5ea8e9169e08",
   "metadata": {},
   "source": [
    "Q1) Create a vehicle class with an init method having instance variables as name_of_vehicle, max_speed\n",
    "and average_of_vehicle."
   ]
  },
  {
   "cell_type": "code",
   "execution_count": 1,
   "id": "1af45c29-2b44-4b52-a339-9a95ffa1419f",
   "metadata": {},
   "outputs": [],
   "source": [
    "class vehicle:\n",
    "    def __init__(self, name_of_vehicle, max_speed, average_of_vehicle):\n",
    "        self.name_of_vehicle=name_of_vehicle\n",
    "        self.max_speed=max_speed\n",
    "        self.average_of_vehicle=average_of_vehicle\n",
    "    \n",
    "a=vehicle('Thar',180,4)"
   ]
  },
  {
   "cell_type": "code",
   "execution_count": 3,
   "id": "a4722901-f25a-4108-b575-bc3bf6326a36",
   "metadata": {},
   "outputs": [
    {
     "data": {
      "text/plain": [
       "('Thar', 180, 4)"
      ]
     },
     "execution_count": 3,
     "metadata": {},
     "output_type": "execute_result"
    }
   ],
   "source": [
    "a.name_of_vehicle,a.max_speed,a.average_of_vehicle"
   ]
  },
  {
   "cell_type": "markdown",
   "id": "1f2a0f8a-dd82-45e3-b02b-0c10bdfb8595",
   "metadata": {},
   "source": [
    "Q2) Create a child class car from the vehicle class created in Que 1, which will inherit the vehicle class.\n",
    "Create a method named seating_capacity which takes capacity as an argument and returns the name of\n",
    "the vehicle and its seating capacity."
   ]
  },
  {
   "cell_type": "code",
   "execution_count": 8,
   "id": "741e76e6-9005-403f-b188-6ca93b07f3d9",
   "metadata": {},
   "outputs": [
    {
     "data": {
      "text/plain": [
       "('Thar', 5)"
      ]
     },
     "execution_count": 8,
     "metadata": {},
     "output_type": "execute_result"
    }
   ],
   "source": [
    "class car(vehicle):\n",
    "    def seating_capacity(self,capacity):\n",
    "        return (self.name_of_vehicle, capacity)\n",
    "\n",
    "b=car('Thar',180,4)\n",
    "b.seating_capacity(5)"
   ]
  },
  {
   "cell_type": "markdown",
   "id": "9ce3d86a-3803-4b76-91a3-3fd52fdcc341",
   "metadata": {},
   "source": [
    "Q3) What is multiple inheritance? Write a python code to demonstrate multiple inheritance."
   ]
  },
  {
   "cell_type": "markdown",
   "id": "1269fece-78a1-4cf6-bf24-58c236d05515",
   "metadata": {},
   "source": [
    "If a child class is inheriting the properties from more than one class, i.e. this child class is derived from multiple classes, we call it multiple inheritance."
   ]
  },
  {
   "cell_type": "code",
   "execution_count": 9,
   "id": "e2fd97f5-ea8b-49e6-8c70-2c74a9fe2548",
   "metadata": {},
   "outputs": [
    {
     "name": "stdout",
     "output_type": "stream",
     "text": [
      "This is a function in class1\n",
      "This is a function in class2\n"
     ]
    }
   ],
   "source": [
    "#Multiple Inheritance\n",
    "class class1:\n",
    "    def test1(self):\n",
    "        print('This is a function in class1')\n",
    "class class2:\n",
    "    def test2(self):\n",
    "        print('This is a function in class2')\n",
    "class class3(class1,class2):\n",
    "    pass\n",
    "\n",
    "ob=class3()\n",
    "ob.test1()\n",
    "ob.test2()"
   ]
  },
  {
   "cell_type": "markdown",
   "id": "d03e1dd2-4897-447a-af96-5e1751b6f52d",
   "metadata": {},
   "source": [
    "Q4) What are getter and setter in python? Create a class and create a getter and a setter method in this\n",
    "class."
   ]
  },
  {
   "cell_type": "markdown",
   "id": "5c71062e-af30-41ef-9d3b-79e9bac6f666",
   "metadata": {},
   "source": [
    "Getter: A method that allows you to access an attribute in a given class.   \n",
    "Setter: A method that allows you to set the value of an attribute in a class"
   ]
  },
  {
   "cell_type": "code",
   "execution_count": 10,
   "id": "84ce9a1d-6d44-409c-ba69-3fd8552d2534",
   "metadata": {},
   "outputs": [],
   "source": [
    "class BankAccount :\n",
    "    \n",
    "    def __init__(self , account_no , amount):\n",
    "        \n",
    "        self.__account_no = account_no\n",
    "        self.__amount = amount\n",
    "        \n",
    "    @property\n",
    "    def show_balance(self) : \n",
    "        return self.__amount\n",
    "    \n",
    "    @show_balance.setter\n",
    "    def set_balance(self , amount):\n",
    "        self.__amount = amount"
   ]
  },
  {
   "cell_type": "code",
   "execution_count": 17,
   "id": "61cdb785-32a7-49d6-a869-ae3f27c43629",
   "metadata": {},
   "outputs": [],
   "source": [
    "tarun=BankAccount(101,5000)"
   ]
  },
  {
   "cell_type": "code",
   "execution_count": 18,
   "id": "b064b28e-6b83-466e-a256-9ae311e78023",
   "metadata": {},
   "outputs": [
    {
     "data": {
      "text/plain": [
       "5000"
      ]
     },
     "execution_count": 18,
     "metadata": {},
     "output_type": "execute_result"
    }
   ],
   "source": [
    "tarun.show_balance"
   ]
  },
  {
   "cell_type": "code",
   "execution_count": 19,
   "id": "e0de7b33-6de3-47cb-887d-6948a7ac9425",
   "metadata": {},
   "outputs": [
    {
     "data": {
      "text/plain": [
       "1000"
      ]
     },
     "execution_count": 19,
     "metadata": {},
     "output_type": "execute_result"
    }
   ],
   "source": [
    "tarun.set_balance=1000\n",
    "tarun.show_balance"
   ]
  },
  {
   "cell_type": "markdown",
   "id": "e058f35e-1d0d-4308-bb67-c74c0f1071f6",
   "metadata": {},
   "source": [
    "Q5) What is method overriding in python? Write a python code to demonstrate method overriding."
   ]
  },
  {
   "cell_type": "markdown",
   "id": "a9b252eb-52c5-4ac9-95a2-f8974cfd4182",
   "metadata": {},
   "source": [
    "The process of redefining a parent class's method in a subclass is known as method overriding."
   ]
  },
  {
   "cell_type": "code",
   "execution_count": 20,
   "id": "8b10af5b-def4-4c7c-a79f-6b682e0039c9",
   "metadata": {},
   "outputs": [
    {
     "name": "stdout",
     "output_type": "stream",
     "text": [
      "I am in class1\n",
      "I am in class2\n"
     ]
    }
   ],
   "source": [
    "class class1():\n",
    "\tdef show(self):\n",
    "\t\tprint('I am in class1')\n",
    "\t\t\n",
    "class class2(class1):\n",
    "\tdef show(self):\n",
    "\t\tprint('I am in class2')\n",
    "\t\t\n",
    "obj1 = class1()\n",
    "obj2 = class2()\n",
    "\n",
    "obj1.show()\n",
    "obj2.show()"
   ]
  },
  {
   "cell_type": "code",
   "execution_count": null,
   "id": "612aeac6-5673-4738-92d8-06d20e10d4c5",
   "metadata": {},
   "outputs": [],
   "source": []
  }
 ],
 "metadata": {
  "kernelspec": {
   "display_name": "Python 3 (ipykernel)",
   "language": "python",
   "name": "python3"
  },
  "language_info": {
   "codemirror_mode": {
    "name": "ipython",
    "version": 3
   },
   "file_extension": ".py",
   "mimetype": "text/x-python",
   "name": "python",
   "nbconvert_exporter": "python",
   "pygments_lexer": "ipython3",
   "version": "3.10.8"
  }
 },
 "nbformat": 4,
 "nbformat_minor": 5
}
