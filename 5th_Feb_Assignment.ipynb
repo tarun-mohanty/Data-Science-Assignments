{
 "cells": [
  {
   "cell_type": "markdown",
   "id": "df0cb830-910c-4b2c-b38a-71c92f0350fd",
   "metadata": {},
   "source": [
    "Q1) Explain Class and Object with respect to Object-Oriented Programming. Give a suitable example."
   ]
  },
  {
   "cell_type": "markdown",
   "id": "4ac89180-81e1-4cda-9694-1f5318732364",
   "metadata": {},
   "source": [
    "Class is blueprint for creating object in a program. Object is an instance of a Class. Many objects can be created from a single class."
   ]
  },
  {
   "cell_type": "code",
   "execution_count": 5,
   "id": "81ebb44d-b419-4a57-870a-63ceda388daa",
   "metadata": {},
   "outputs": [],
   "source": [
    "class Student:\n",
    "    def __init__(self,Name,Age,Course):\n",
    "        self.name=Name\n",
    "        self.age=Age\n",
    "        self.course=Course\n",
    "    def print_details(self):\n",
    "        print(f\"Name : {self.name} \\nAge : {self.age}\\nCourse : {self.course}\")"
   ]
  },
  {
   "cell_type": "code",
   "execution_count": 6,
   "id": "1305b331-fe48-4886-8f8a-09cce5fbb73f",
   "metadata": {},
   "outputs": [
    {
     "name": "stdout",
     "output_type": "stream",
     "text": [
      "Name : Tarun \n",
      "Age : 23\n",
      "Course : Data Science\n"
     ]
    }
   ],
   "source": [
    "s1=Student('Tarun',23,'Data Science')\n",
    "s1.print_details()"
   ]
  },
  {
   "cell_type": "markdown",
   "id": "528401ec-f75f-492c-8fe6-f35d372c59de",
   "metadata": {},
   "source": [
    "Q2) Name the four pillars of OOPs. \n"
   ]
  },
  {
   "cell_type": "markdown",
   "id": "b26cd627-2e51-4743-a607-e4ccaf048b36",
   "metadata": {},
   "source": [
    "polymorphism, encapsulation, abstraction, inheritance"
   ]
  },
  {
   "cell_type": "markdown",
   "id": "a774ab30-6b26-40b4-a66c-fb47e4207850",
   "metadata": {},
   "source": [
    "Q3) Explain why the __init__() function is used. Give a suitable example. \n"
   ]
  },
  {
   "cell_type": "code",
   "execution_count": 8,
   "id": "a5c4f0ca-0f66-474a-83a9-867a86546746",
   "metadata": {},
   "outputs": [],
   "source": [
    "# init() method is used to pass data to the object"
   ]
  },
  {
   "cell_type": "code",
   "execution_count": 13,
   "id": "db61ea0b-0354-4ee9-a7c0-dd98483517f3",
   "metadata": {},
   "outputs": [
    {
     "name": "stdout",
     "output_type": "stream",
     "text": [
      "Data Received :  3\n"
     ]
    }
   ],
   "source": [
    "class test:\n",
    "    def __init__(self, a):\n",
    "        self.a=a\n",
    "        print('Data Received : ',a)\n",
    "\n",
    "obj=test(3)"
   ]
  },
  {
   "cell_type": "markdown",
   "id": "6fd7885a-a050-461d-8511-fb3f5d49c4b1",
   "metadata": {},
   "source": [
    "Q4) Why self is used in OOPs? "
   ]
  },
  {
   "cell_type": "markdown",
   "id": "e485f7dc-6000-438e-94a7-053173b5bbb0",
   "metadata": {},
   "source": [
    "self is works as the reference to the object. By the help of self we can refer to instance attributes and methods."
   ]
  },
  {
   "cell_type": "markdown",
   "id": "48af9bac-ba1f-4b6b-ac14-23df43cdc45d",
   "metadata": {},
   "source": [
    "Q5) What is inheritance? Give an example for each type of inheritance. \n"
   ]
  },
  {
   "cell_type": "markdown",
   "id": "bc649fb2-26f8-4b5c-b38c-6980de00f0f8",
   "metadata": {},
   "source": [
    "Inheritance is the mechanism in which one class gets the property of another class."
   ]
  },
  {
   "cell_type": "code",
   "execution_count": 15,
   "id": "9eccc3e4-3a50-4486-a90d-0353a4eae6b2",
   "metadata": {},
   "outputs": [
    {
     "name": "stdout",
     "output_type": "stream",
     "text": [
      "This is a function of class A\n"
     ]
    }
   ],
   "source": [
    "# Single Inheritance\n",
    "class A:\n",
    "    def testA(self):\n",
    "        print('This is a function of class A')\n",
    "class B(A):\n",
    "    pass\n",
    "\n",
    "obj=B()\n",
    "obj.testA()"
   ]
  },
  {
   "cell_type": "code",
   "execution_count": 16,
   "id": "2380930e-c52c-4057-ad05-ace32c9b2e24",
   "metadata": {},
   "outputs": [
    {
     "name": "stdout",
     "output_type": "stream",
     "text": [
      "This is a function of class A1\n",
      "This is a function of class A2\n"
     ]
    }
   ],
   "source": [
    "# Multilevel Inheritance\n",
    "class A1:\n",
    "    def testA1(self):\n",
    "        print('This is a function of class A1')\n",
    "class A2(A1):\n",
    "    def testA2(self):\n",
    "        print('This is a function of class A2')\n",
    "class A3(A2):\n",
    "    pass\n",
    "\n",
    "class_obj=A3()\n",
    "class_obj.testA1()\n",
    "class_obj.testA2()"
   ]
  },
  {
   "cell_type": "code",
   "execution_count": 17,
   "id": "accd4dc6-a3bd-4536-ac19-3277cb41e7ca",
   "metadata": {},
   "outputs": [
    {
     "name": "stdout",
     "output_type": "stream",
     "text": [
      "This is a function in class1\n",
      "This is a function in class2\n"
     ]
    }
   ],
   "source": [
    "#Multiple Inheritance\n",
    "class class1:\n",
    "    def test1(self):\n",
    "        print('This is a function in class1')\n",
    "class class2:\n",
    "    def test2(self):\n",
    "        print('This is a function in class2')\n",
    "class class3(class1,class2):\n",
    "    pass\n",
    "\n",
    "ob=class3()\n",
    "ob.test1()\n",
    "ob.test2()"
   ]
  },
  {
   "cell_type": "code",
   "execution_count": null,
   "id": "cd9e9632-2549-4dae-92fc-3f51b227d2fa",
   "metadata": {},
   "outputs": [],
   "source": []
  }
 ],
 "metadata": {
  "kernelspec": {
   "display_name": "Python 3 (ipykernel)",
   "language": "python",
   "name": "python3"
  },
  "language_info": {
   "codemirror_mode": {
    "name": "ipython",
    "version": 3
   },
   "file_extension": ".py",
   "mimetype": "text/x-python",
   "name": "python",
   "nbconvert_exporter": "python",
   "pygments_lexer": "ipython3",
   "version": "3.10.8"
  }
 },
 "nbformat": 4,
 "nbformat_minor": 5
}
