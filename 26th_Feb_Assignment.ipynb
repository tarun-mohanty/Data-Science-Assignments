{
 "cells": [
  {
   "cell_type": "code",
   "execution_count": 1,
   "id": "5d2252c8-22b9-47c7-b4bf-58131234d977",
   "metadata": {},
   "outputs": [],
   "source": [
    "import numpy as np\n",
    "list_ = [ '1' , '2' , '3' , '4' , '5' ]\n",
    "array_list = np.array(object = list_)"
   ]
  },
  {
   "cell_type": "markdown",
   "id": "6d19250e-3dcc-4d70-b4c5-f504fd4eef9b",
   "metadata": {},
   "source": [
    "Q1) Is there any difference in the data type of variables list_ and array_list? If there is then write a code\n",
    "to print the data types of both the variables."
   ]
  },
  {
   "cell_type": "code",
   "execution_count": 6,
   "id": "f12753e4-3c8b-491d-a697-b5e4c3c27dd3",
   "metadata": {},
   "outputs": [
    {
     "name": "stdout",
     "output_type": "stream",
     "text": [
      "<class 'list'>\n",
      "<class 'numpy.ndarray'>\n"
     ]
    }
   ],
   "source": [
    "# Yes, there is a difference.\n",
    "print(type(list_))\n",
    "print(type(array_list))"
   ]
  },
  {
   "cell_type": "markdown",
   "id": "c342d0b4-4754-4e39-9227-71b14ab9b88c",
   "metadata": {},
   "source": [
    "Q2) Write a code to print the data type of each and every element of both the variables list_ and\n",
    "arra_list."
   ]
  },
  {
   "cell_type": "code",
   "execution_count": 9,
   "id": "0522946a-0c92-40b7-8060-b874e40dc6e6",
   "metadata": {},
   "outputs": [
    {
     "name": "stdout",
     "output_type": "stream",
     "text": [
      "<class 'str'>\n",
      "<class 'str'>\n",
      "<class 'str'>\n",
      "<class 'str'>\n",
      "<class 'str'>\n",
      "<class 'numpy.str_'>\n",
      "<class 'numpy.str_'>\n",
      "<class 'numpy.str_'>\n",
      "<class 'numpy.str_'>\n",
      "<class 'numpy.str_'>\n"
     ]
    }
   ],
   "source": [
    "for i in list_:\n",
    "    print(type(i))\n",
    "    \n",
    "for i in array_list:\n",
    "    print(type(i))"
   ]
  },
  {
   "cell_type": "markdown",
   "id": "9e07461f-7370-441c-ad7a-58062aa739cb",
   "metadata": {},
   "source": [
    "Q3) Considering the following changes in the variable, array_list:   \n",
    "array_list = np.array(object = list_, dtype = int)  \n",
    "Will there be any difference in the data type of the elements present in both the variables, list_ and\n",
    "arra_list? If so then print the data types of each and every element present in both the variables, list_\n",
    "and arra_list.  "
   ]
  },
  {
   "cell_type": "code",
   "execution_count": 10,
   "id": "6764d296-4827-4915-b7b6-f16fea4b7477",
   "metadata": {},
   "outputs": [],
   "source": [
    "array_list = np.array(object = list_, dtype = int)"
   ]
  },
  {
   "cell_type": "code",
   "execution_count": 13,
   "id": "738c504e-6c7a-40a3-b3c5-c40b1b585908",
   "metadata": {},
   "outputs": [
    {
     "name": "stdout",
     "output_type": "stream",
     "text": [
      "<class 'str'>\n",
      "<class 'str'>\n",
      "<class 'str'>\n",
      "<class 'str'>\n",
      "<class 'str'>\n",
      "<class 'numpy.int64'>\n",
      "<class 'numpy.int64'>\n",
      "<class 'numpy.int64'>\n",
      "<class 'numpy.int64'>\n",
      "<class 'numpy.int64'>\n"
     ]
    }
   ],
   "source": [
    "# Yes, there is a difference after executing the above code.\n",
    "for i in list_:\n",
    "    print(type(i))\n",
    "    \n",
    "for i in array_list:\n",
    "    print(type(i))"
   ]
  },
  {
   "cell_type": "code",
   "execution_count": 14,
   "id": "56bb2672-5850-4bba-bcd6-6e320f0ae7de",
   "metadata": {},
   "outputs": [],
   "source": [
    "import numpy as np\n",
    "num_list = [ [ 1 , 2 , 3 ] , [ 4 , 5 , 6 ] ]\n",
    "num_array = np.array(object = num_list)"
   ]
  },
  {
   "cell_type": "markdown",
   "id": "fc7b1fe6-64a6-40c6-b8e8-e8e1f6975d29",
   "metadata": {},
   "source": [
    "Q4) Write a code to find the following characteristics of variable, num_array:  \n",
    "(i) shape  \n",
    "(ii) size  "
   ]
  },
  {
   "cell_type": "code",
   "execution_count": 16,
   "id": "4e8ab3a8-4c72-4033-9b8a-a52306440e38",
   "metadata": {},
   "outputs": [
    {
     "name": "stdout",
     "output_type": "stream",
     "text": [
      "(2, 3)\n",
      "6\n"
     ]
    }
   ],
   "source": [
    "print(num_array.shape)\n",
    "print(num_array.size)"
   ]
  },
  {
   "cell_type": "markdown",
   "id": "e579c803-ecfe-4426-abb5-1c5bdc9e474f",
   "metadata": {},
   "source": [
    "Q5) Write a code to create numpy array of 3*3 matrix containing zeros only, using a numpy array\n",
    "creation function."
   ]
  },
  {
   "cell_type": "code",
   "execution_count": 18,
   "id": "c72d68a1-e59a-4bf9-bb78-58740e093f24",
   "metadata": {},
   "outputs": [
    {
     "data": {
      "text/plain": [
       "array([[0., 0., 0.],\n",
       "       [0., 0., 0.],\n",
       "       [0., 0., 0.]])"
      ]
     },
     "execution_count": 18,
     "metadata": {},
     "output_type": "execute_result"
    }
   ],
   "source": [
    "arr = np.zeros((3,3))\n",
    "arr"
   ]
  },
  {
   "cell_type": "markdown",
   "id": "150ef9d0-f213-4b94-b3b2-9d373c6607b4",
   "metadata": {},
   "source": [
    "Q6) Create an identity matrix of shape (5,5) using numpy functions?"
   ]
  },
  {
   "cell_type": "code",
   "execution_count": 20,
   "id": "2decb87d-7e02-442c-b960-a6dc70795cfa",
   "metadata": {},
   "outputs": [
    {
     "data": {
      "text/plain": [
       "array([[1., 0., 0., 0., 0.],\n",
       "       [0., 1., 0., 0., 0.],\n",
       "       [0., 0., 1., 0., 0.],\n",
       "       [0., 0., 0., 1., 0.],\n",
       "       [0., 0., 0., 0., 1.]])"
      ]
     },
     "execution_count": 20,
     "metadata": {},
     "output_type": "execute_result"
    }
   ],
   "source": [
    "arr1 = np.eye(5)\n",
    "arr1"
   ]
  }
 ],
 "metadata": {
  "kernelspec": {
   "display_name": "Python 3 (ipykernel)",
   "language": "python",
   "name": "python3"
  },
  "language_info": {
   "codemirror_mode": {
    "name": "ipython",
    "version": 3
   },
   "file_extension": ".py",
   "mimetype": "text/x-python",
   "name": "python",
   "nbconvert_exporter": "python",
   "pygments_lexer": "ipython3",
   "version": "3.10.8"
  }
 },
 "nbformat": 4,
 "nbformat_minor": 5
}
