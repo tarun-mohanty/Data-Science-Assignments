{
 "cells": [
  {
   "cell_type": "markdown",
   "id": "107d7a1a-cef2-4ddd-b46b-a17ec206ee8a",
   "metadata": {},
   "source": [
    "Q1) Which function is used to open a file? What are the different modes of opening a file? Explain each mode\n",
    "of file opening."
   ]
  },
  {
   "cell_type": "markdown",
   "id": "21f0c5d9-8042-4571-a1d5-fd5261c3186a",
   "metadata": {},
   "source": [
    "open() method is used to open a file.\n",
    "\n",
    "Different modes of opening a file are :\n",
    "\n",
    "r - Open a file for reading. (default)  \n",
    "w - Open a file for writing. Creates a new file if it does not exist or overwrite the file if it exists.  \n",
    "x - Open a file for exclusive creation. If the file already exists, the operation fails.  \n",
    "a - Open a file for appending at the end of the file without overwriting it. Creates a new file if it does not exist.  \n",
    "t - Open in text mode. (default)  \n",
    "b - Open in binary mode.  \n",
    "'+' - Open a file for updating (reading and writing)  "
   ]
  },
  {
   "cell_type": "markdown",
   "id": "c330f1bc-91dd-49f9-850e-e2c29be3e389",
   "metadata": {},
   "source": [
    "Q2) Why close() function is used? Why is it important to close a file?"
   ]
  },
  {
   "cell_type": "markdown",
   "id": "9ed52c3b-b40b-4ac5-ae93-324328b5cf92",
   "metadata": {},
   "source": [
    "The close() method closes an open file. You should always close your files, in some cases, due to buffering, changes made to a file may not show until you close the file"
   ]
  },
  {
   "cell_type": "markdown",
   "id": "6f5f02aa-aed9-47c7-a00a-388df12cfb1b",
   "metadata": {},
   "source": [
    "Q3) Write a python program to create a text file. Write ‘I want to become a Data Scientist’ in that file. Then\n",
    "close the file. Open this file and read the content of the file."
   ]
  },
  {
   "cell_type": "code",
   "execution_count": 1,
   "id": "8e7ee293-141a-4684-ab3f-9d9f1b1fada5",
   "metadata": {},
   "outputs": [
    {
     "name": "stdout",
     "output_type": "stream",
     "text": [
      "I want to become a Data Scientist\n"
     ]
    }
   ],
   "source": [
    "f=open('test.txt','w')\n",
    "f.write('I want to become a Data Scientist')\n",
    "f.close()\n",
    "fr=open('test.txt','r')\n",
    "print(fr.read())"
   ]
  },
  {
   "cell_type": "markdown",
   "id": "28c9d598-0a54-4811-bd4f-721c4bd54561",
   "metadata": {},
   "source": [
    "Q4) Explain the following with python code: read(), readline() and readlines()."
   ]
  },
  {
   "cell_type": "markdown",
   "id": "6006c735-20e7-4c2c-a020-3acfd081c38d",
   "metadata": {},
   "source": [
    "read() reads the entire contents of a file and returns it as a string.  \n",
    "readline() reads a single line from a file and returns it as a string.  \n",
    "readlines() reads the entire contents of a file and returns it as a list of strings, where each element of the list is a single line of the file"
   ]
  },
  {
   "cell_type": "markdown",
   "id": "9be2a812-cc5c-4ee9-a285-85bfbcda0828",
   "metadata": {},
   "source": [
    "Q5) Explain why with statement is used with open(). What is the advantage of using with statement and\n",
    "open() together?"
   ]
  },
  {
   "cell_type": "markdown",
   "id": "3333e8f3-e24e-4b0a-864c-bcdc1ec0039f",
   "metadata": {},
   "source": [
    "The with statement works with the open() function to open a file. Unlike open() where you have to close the file with the close() method, the with statement closes the file for you without you telling it to."
   ]
  },
  {
   "cell_type": "markdown",
   "id": "39a64eb2-8356-4cb7-a4f0-a76a75c5f6b6",
   "metadata": {},
   "source": [
    "Q6) Explain the write() and writelines() functions. Give a suitable example."
   ]
  },
  {
   "cell_type": "markdown",
   "id": "aea4499a-fb42-4c3d-9270-b80d6558e1f0",
   "metadata": {},
   "source": [
    "write() function will write the content in the file.  \n",
    "writelines() writes the content of a list to a file."
   ]
  },
  {
   "cell_type": "code",
   "execution_count": 2,
   "id": "ac0999b7-a0b9-4e41-8a7e-d44289e9d1c7",
   "metadata": {},
   "outputs": [
    {
     "name": "stdin",
     "output_type": "stream",
     "text": [
      "Enter the name to write in the file:  Tarun\n",
      "Enter the name to write in the file:  Goutam\n",
      "Enter the name to write in the file:  Tanishq\n"
     ]
    }
   ],
   "source": [
    "file = open(\"names.txt\", \"w\")\n",
    "\n",
    "for i in range(3):\n",
    "    name = input(\"Enter the name to write in the file: \")\n",
    "    file.write(name)\n",
    "    file.write(\"\\n\")\n",
    "\t\n",
    "file.close()"
   ]
  },
  {
   "cell_type": "code",
   "execution_count": 3,
   "id": "d8e57b99-5bff-4815-a212-91cb272fd9f3",
   "metadata": {},
   "outputs": [
    {
     "name": "stdin",
     "output_type": "stream",
     "text": [
      "Enter the name to write in the file:  Tanishq\n",
      "Enter the name to write in the file:  Goutam\n",
      "Enter the name to write in the file:  Tarun\n"
     ]
    }
   ],
   "source": [
    "file1 = open(\"names1.txt\", \"w\")\n",
    "lst = []\n",
    "for i in range(3):\n",
    "\tname = input(\"Enter the name to write in the file: \")\n",
    "\tlst.append(name + '\\n')\n",
    "\t\n",
    "file1.writelines(lst)\n",
    "file1.close()"
   ]
  },
  {
   "cell_type": "code",
   "execution_count": null,
   "id": "aac90e48-84fe-4c5f-b5b9-401c54437670",
   "metadata": {},
   "outputs": [],
   "source": []
  }
 ],
 "metadata": {
  "kernelspec": {
   "display_name": "Python 3 (ipykernel)",
   "language": "python",
   "name": "python3"
  },
  "language_info": {
   "codemirror_mode": {
    "name": "ipython",
    "version": 3
   },
   "file_extension": ".py",
   "mimetype": "text/x-python",
   "name": "python",
   "nbconvert_exporter": "python",
   "pygments_lexer": "ipython3",
   "version": "3.10.8"
  }
 },
 "nbformat": 4,
 "nbformat_minor": 5
}
