{
 "cells": [
  {
   "cell_type": "markdown",
   "id": "6e57ef61-dc2a-4eec-86de-b20793fcbbf0",
   "metadata": {},
   "source": [
    "Q1) Which keyword is used to create a function? Create a function to return a list of odd numbers in the  range of 1 to 25. "
   ]
  },
  {
   "cell_type": "code",
   "execution_count": 1,
   "id": "b2ab973d-8f96-4143-96e4-6029e1a64617",
   "metadata": {},
   "outputs": [
    {
     "data": {
      "text/plain": [
       "[1, 3, 5, 7, 9, 11, 13, 15, 17, 19, 21, 23, 25]"
      ]
     },
     "execution_count": 1,
     "metadata": {},
     "output_type": "execute_result"
    }
   ],
   "source": [
    "# def keyword is used to create function.\n",
    "\n",
    "def getodd(n):\n",
    "    l=[]\n",
    "    for i in range(1,n+1,2):\n",
    "        l.append(i)\n",
    "    return l\n",
    "\n",
    "getodd(25)"
   ]
  },
  {
   "cell_type": "markdown",
   "id": "c600308b-1bb4-44e2-bdb5-26fe3af8c326",
   "metadata": {},
   "source": [
    "Q2) Why *args and **kwargs is used in some functions? Create a function each for *args and **kwargs  to demonstrate their use. "
   ]
  },
  {
   "cell_type": "code",
   "execution_count": 3,
   "id": "4c085a9a-0239-40c4-8aa2-cf44d9b966f8",
   "metadata": {},
   "outputs": [],
   "source": [
    "# *args is used for passing variable number of parameters\n",
    "\n",
    "# **kwargs is used for passing variable number of key-value pair parameters"
   ]
  },
  {
   "cell_type": "code",
   "execution_count": 5,
   "id": "72ade4c5-f18e-4b58-8fda-a6f560d92fb5",
   "metadata": {},
   "outputs": [
    {
     "data": {
      "text/plain": [
       "30"
      ]
     },
     "execution_count": 5,
     "metadata": {},
     "output_type": "execute_result"
    }
   ],
   "source": [
    "def f1(*args):\n",
    "    sum=0\n",
    "    for i in args:\n",
    "        sum+=i\n",
    "    return sum\n",
    "\n",
    "f1(5,10,15)"
   ]
  },
  {
   "cell_type": "code",
   "execution_count": 11,
   "id": "4e9539f4-ddc3-4663-af50-dc6593633ed3",
   "metadata": {},
   "outputs": [
    {
     "name": "stdout",
     "output_type": "stream",
     "text": [
      "Student Details :\n",
      "Name : Tarun\n",
      "Age : 23\n",
      "Course : Data Science\n"
     ]
    }
   ],
   "source": [
    "def f2(**kwargs):\n",
    "    print('Student Details :')\n",
    "    for k,v in kwargs.items():\n",
    "        print(k,':',v)\n",
    "\n",
    "f2(Name='Tarun',Age=23,Course='Data Science')"
   ]
  },
  {
   "cell_type": "markdown",
   "id": "a80c9569-fda2-41f8-b412-2b4698021b46",
   "metadata": {},
   "source": [
    "Q3)  What is an iterator in python? Name the method used to initialise the iterator object and the method  used for iteration. Use these methods to print the first five elements of the given list [2, 4, 6, 8, 10, 12, 14,  16, 18, 20]. "
   ]
  },
  {
   "cell_type": "code",
   "execution_count": 12,
   "id": "91bb79cd-d8d0-4659-9b0b-84bf79d009af",
   "metadata": {},
   "outputs": [],
   "source": [
    "# Iterator is an object that allows to iterate over collections of data like list, tuple, dictionary\n",
    "\n",
    "# for initialise, we use iter()\n",
    "# for iteration, we use next()"
   ]
  },
  {
   "cell_type": "code",
   "execution_count": 16,
   "id": "55fc0ea5-1e8b-4de2-9fb4-edc3d02cd8d2",
   "metadata": {},
   "outputs": [
    {
     "name": "stdout",
     "output_type": "stream",
     "text": [
      "2\n",
      "4\n",
      "6\n",
      "8\n",
      "10\n"
     ]
    }
   ],
   "source": [
    "l=[2, 4, 6, 8, 10, 12, 14, 16, 18, 20]\n",
    "\n",
    "itr=iter(l)\n",
    "for i in range(5):\n",
    "    print(next(itr))"
   ]
  },
  {
   "cell_type": "markdown",
   "id": "0c6f2677-e9e5-4bb6-90e4-8f8caaa0e991",
   "metadata": {},
   "source": [
    "Q4)  What is a generator function in python? Why yield keyword is used? Give an example of a generator  function. "
   ]
  },
  {
   "cell_type": "code",
   "execution_count": 18,
   "id": "246a9fe9-b303-4175-b9da-2512a192b5ee",
   "metadata": {},
   "outputs": [],
   "source": [
    "# generator is a function that behaves like iterator.\n",
    "\n",
    "# yield keyword is used to generate a value from the generator object"
   ]
  },
  {
   "cell_type": "code",
   "execution_count": 23,
   "id": "2ee36922-bae5-44e3-8752-0e97d8cb2c17",
   "metadata": {},
   "outputs": [
    {
     "name": "stdout",
     "output_type": "stream",
     "text": [
      "2\n",
      "4\n",
      "6\n"
     ]
    }
   ],
   "source": [
    "def even_generate():\n",
    "    i=1\n",
    "    while True:\n",
    "        yield 2*i\n",
    "        i+=1\n",
    "        \n",
    "obj=even_generate()\n",
    "\n",
    "for i in range(3):\n",
    "    print(next(obj))\n"
   ]
  },
  {
   "cell_type": "markdown",
   "id": "aaf4078b-12a7-4b23-8a2f-82e1f6a00d2d",
   "metadata": {},
   "source": [
    "Q5) Create a generator function for prime numbers less than 1000. Use the next() method to print the  first 20 prime numbers. "
   ]
  },
  {
   "cell_type": "code",
   "execution_count": 29,
   "id": "2c4cfd25-9089-4676-bd9b-5919842d95e8",
   "metadata": {},
   "outputs": [
    {
     "name": "stdout",
     "output_type": "stream",
     "text": [
      "1 2 3 5 7 11 13 17 19 23 29 31 37 41 43 47 53 59 61 67 "
     ]
    }
   ],
   "source": [
    "def prime_generator():\n",
    "    for i in range(1,100):\n",
    "        for j in range(2,i):\n",
    "            if i%j==0:\n",
    "                break\n",
    "        else:\n",
    "            yield i\n",
    "\n",
    "pg=prime_generator()\n",
    "\n",
    "for i in range(20):\n",
    "    print(next(pg),end=\" \")"
   ]
  },
  {
   "cell_type": "markdown",
   "id": "ecff5698-5856-4205-9579-e4a902b745d4",
   "metadata": {},
   "source": [
    "Q6) Write a python program to print the first 10 Fibonacci numbers using a while loop. "
   ]
  },
  {
   "cell_type": "code",
   "execution_count": 31,
   "id": "56752138-98dc-4ce0-99cf-469d40440df3",
   "metadata": {},
   "outputs": [
    {
     "name": "stdout",
     "output_type": "stream",
     "text": [
      "0 1 1 2 3 5 8 13 21 34 "
     ]
    }
   ],
   "source": [
    "a,b=0,1\n",
    "\n",
    "counter=0\n",
    "while counter<10:\n",
    "    print(a, end=\" \")\n",
    "    c=a+b\n",
    "    a=b\n",
    "    b=c\n",
    "    counter+=1"
   ]
  },
  {
   "cell_type": "markdown",
   "id": "9bcd3889-beda-49cb-a92f-a0111a365acc",
   "metadata": {},
   "source": [
    "Q7) Write a List Comprehension to iterate through the given string: ‘pwskills’. \n",
    "Expected output: ['p', 'w', 's', 'k', 'i', 'l', 'l', 's']  \n"
   ]
  },
  {
   "cell_type": "code",
   "execution_count": 32,
   "id": "76f54f72-3561-4759-a5c0-a51990aabae2",
   "metadata": {},
   "outputs": [
    {
     "data": {
      "text/plain": [
       "['p', 'w', 's', 'k', 'i', 'l', 'l', 's']"
      ]
     },
     "execution_count": 32,
     "metadata": {},
     "output_type": "execute_result"
    }
   ],
   "source": [
    "[i for i in 'pwskills']"
   ]
  },
  {
   "cell_type": "markdown",
   "id": "cde5d680-e4bc-4c00-a2d2-c2d5c94b0df3",
   "metadata": {},
   "source": [
    "Q8) Write a python program to check whether a given number is Palindrome or not using a while loop. "
   ]
  },
  {
   "cell_type": "code",
   "execution_count": 35,
   "id": "b5690184-8270-49bf-bb7d-bd86552e34a1",
   "metadata": {},
   "outputs": [
    {
     "name": "stdin",
     "output_type": "stream",
     "text": [
      "Enter number : 121\n"
     ]
    },
    {
     "name": "stdout",
     "output_type": "stream",
     "text": [
      "121\n",
      "Number is Palindrome\n"
     ]
    }
   ],
   "source": [
    "num=int(input('Enter number :'))\n",
    "temp=num\n",
    "revnum=0\n",
    "while temp>0:\n",
    "    revnum=(revnum*10)+(temp%10)\n",
    "    temp=temp//10\n",
    "\n",
    "print(revnum)\n",
    "if revnum==num:\n",
    "    print(\"Number is Palindrome\")\n",
    "else:\n",
    "    print(\"Number is not Palindrome\")"
   ]
  },
  {
   "cell_type": "markdown",
   "id": "80b24965-b483-40d0-8171-5a12ac38b82c",
   "metadata": {},
   "source": [
    "Q9) Write a code to print odd numbers from 1 to 100 using list comprehension. \n",
    "\n",
    "Note: Use a list comprehension to create a list from 1 to 100 and use another List comprehension to filter  out odd numbers. \n"
   ]
  },
  {
   "cell_type": "code",
   "execution_count": 38,
   "id": "ad45b9d9-e5f2-470d-8f02-fdda2b8b1333",
   "metadata": {},
   "outputs": [
    {
     "name": "stdout",
     "output_type": "stream",
     "text": [
      "[1, 3, 5, 7, 9, 11, 13, 15, 17, 19, 21, 23, 25, 27, 29, 31, 33, 35, 37, 39, 41, 43, 45, 47, 49, 51, 53, 55, 57, 59, 61, 63, 65, 67, 69, 71, 73, 75, 77, 79, 81, 83, 85, 87, 89, 91, 93, 95, 97, 99]\n"
     ]
    }
   ],
   "source": [
    "l1=[i for i in range(1,101)]\n",
    "l2=list(filter(lambda x: x%2==1,l1))\n",
    "print(l2)"
   ]
  },
  {
   "cell_type": "code",
   "execution_count": null,
   "id": "885ad161-be5e-4263-96ee-dd0ad84fc322",
   "metadata": {},
   "outputs": [],
   "source": []
  }
 ],
 "metadata": {
  "kernelspec": {
   "display_name": "Python 3 (ipykernel)",
   "language": "python",
   "name": "python3"
  },
  "language_info": {
   "codemirror_mode": {
    "name": "ipython",
    "version": 3
   },
   "file_extension": ".py",
   "mimetype": "text/x-python",
   "name": "python",
   "nbconvert_exporter": "python",
   "pygments_lexer": "ipython3",
   "version": "3.10.8"
  }
 },
 "nbformat": 4,
 "nbformat_minor": 5
}
