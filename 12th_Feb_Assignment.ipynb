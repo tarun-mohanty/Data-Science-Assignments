{
 "cells": [
  {
   "cell_type": "markdown",
   "id": "acdfde21-3f0c-4ed1-9ea0-7f3ec196e281",
   "metadata": {},
   "source": [
    "Q1) What is an exception in python ? Write the difference between Exceptions an Syntax errors."
   ]
  },
  {
   "cell_type": "markdown",
   "id": "180f01f4-83ce-4286-8e88-e1c1b161b044",
   "metadata": {},
   "source": [
    "When in the runtime an error that occurs is called as exceptions. \n",
    "For example, when we divide any number by zero then the ZeroDivisionError exception is raised.\n",
    "\n",
    "When the proper syntax of the language is not followed then a syntax error is Occured but Exceptions Occurs after passing the syntax test. Syntax error is called Compile time error where as Exceptions are called runtime error"
   ]
  },
  {
   "cell_type": "markdown",
   "id": "7155921d-6e9c-4919-ab60-77129e53bde0",
   "metadata": {},
   "source": [
    "Q2) What happens when an exception is not handled ? Explain with an example."
   ]
  },
  {
   "cell_type": "markdown",
   "id": "48e62984-8cd9-45ab-8374-f00a3f841d66",
   "metadata": {},
   "source": [
    "If the exception is not handled the program stops execution and shows the error message"
   ]
  },
  {
   "cell_type": "code",
   "execution_count": 1,
   "id": "a4b3353e-b43b-4daa-97d1-1181a8d37361",
   "metadata": {},
   "outputs": [
    {
     "ename": "ZeroDivisionError",
     "evalue": "division by zero",
     "output_type": "error",
     "traceback": [
      "\u001b[0;31m---------------------------------------------------------------------------\u001b[0m",
      "\u001b[0;31mZeroDivisionError\u001b[0m                         Traceback (most recent call last)",
      "Cell \u001b[0;32mIn[1], line 1\u001b[0m\n\u001b[0;32m----> 1\u001b[0m x\u001b[38;5;241m=\u001b[39m\u001b[38;5;241;43m10\u001b[39;49m\u001b[38;5;241;43m/\u001b[39;49m\u001b[38;5;241;43m0\u001b[39;49m\n",
      "\u001b[0;31mZeroDivisionError\u001b[0m: division by zero"
     ]
    }
   ],
   "source": [
    "x=10/0"
   ]
  },
  {
   "cell_type": "markdown",
   "id": "b520babf-e56c-44cd-b23c-2106670a5f28",
   "metadata": {},
   "source": [
    "Q3) Which python statements are used to catch and handle exceptions? Explains with an example."
   ]
  },
  {
   "cell_type": "markdown",
   "id": "c019ea54-c3a2-42a9-9c99-78060ced414b",
   "metadata": {},
   "source": [
    "The try and except block in Python is used to catch and handle exceptions."
   ]
  },
  {
   "cell_type": "code",
   "execution_count": 2,
   "id": "0bfae906-7576-4c5c-a1b5-495fca357270",
   "metadata": {},
   "outputs": [
    {
     "name": "stdout",
     "output_type": "stream",
     "text": [
      "division by zero\n",
      "7\n"
     ]
    }
   ],
   "source": [
    "try:\n",
    "    10/0\n",
    "except ZeroDivisionError as e:\n",
    "    print(e)\n",
    "print(2+5)"
   ]
  },
  {
   "cell_type": "markdown",
   "id": "3abd0995-9bea-4590-b792-dbbdbc774d08",
   "metadata": {},
   "source": [
    "Q4) Explain with an example :  \n",
    "a. try and else  \n",
    "b. finally  \n",
    "c. raise  "
   ]
  },
  {
   "cell_type": "code",
   "execution_count": 6,
   "id": "b3037561-5b65-4ba3-9d83-a264e6ead9fd",
   "metadata": {},
   "outputs": [
    {
     "name": "stdout",
     "output_type": "stream",
     "text": [
      "hello\n",
      "division by zero\n"
     ]
    }
   ],
   "source": [
    "#try and else\n",
    "#if no exception occurs in try block then else block is executed\n",
    "try:\n",
    "    print('hello')\n",
    "    x=10/0\n",
    "except Exception as e:\n",
    "    print(e)\n",
    "else:\n",
    "    print('No exception occurs')"
   ]
  },
  {
   "cell_type": "code",
   "execution_count": 7,
   "id": "a17a5825-3875-4300-8621-47637a54e2de",
   "metadata": {},
   "outputs": [
    {
     "name": "stdout",
     "output_type": "stream",
     "text": [
      "hello\n",
      "No exception occurs\n"
     ]
    }
   ],
   "source": [
    "try:\n",
    "    print('hello')\n",
    "    # x=10/0\n",
    "except Exception as e:\n",
    "    print(e)\n",
    "else:\n",
    "    print('No exception occurs')"
   ]
  },
  {
   "cell_type": "code",
   "execution_count": 8,
   "id": "efafd637-8830-4510-a549-90e88134e068",
   "metadata": {},
   "outputs": [
    {
     "name": "stdout",
     "output_type": "stream",
     "text": [
      "hello\n",
      "division by zero\n",
      "Finally block statement\n"
     ]
    }
   ],
   "source": [
    "#finally block is executed all the time i.e. exceptions occurs or not\n",
    "try:\n",
    "    print('hello')\n",
    "    x=10/0\n",
    "except Exception as e:\n",
    "    print(e)\n",
    "finally:\n",
    "    print('Finally block statement')\n"
   ]
  },
  {
   "cell_type": "code",
   "execution_count": 9,
   "id": "e09c775e-9dfb-43a1-a730-63b7c2b12061",
   "metadata": {},
   "outputs": [
    {
     "name": "stdout",
     "output_type": "stream",
     "text": [
      "hello\n",
      "Finally block statement\n"
     ]
    }
   ],
   "source": [
    "try:\n",
    "    print('hello')\n",
    "    # x=10/0\n",
    "except Exception as e:\n",
    "    print(e)\n",
    "finally:\n",
    "    print('Finally block statement')"
   ]
  },
  {
   "cell_type": "code",
   "execution_count": 1,
   "id": "b3b3231e-c598-4a07-80df-90341d8bc692",
   "metadata": {},
   "outputs": [
    {
     "name": "stdin",
     "output_type": "stream",
     "text": [
      "Enter only even numbers : 5\n"
     ]
    },
    {
     "ename": "Exception",
     "evalue": "The number shouldn't be an odd integer",
     "output_type": "error",
     "traceback": [
      "\u001b[0;31m---------------------------------------------------------------------------\u001b[0m",
      "\u001b[0;31mException\u001b[0m                                 Traceback (most recent call last)",
      "Cell \u001b[0;32mIn[1], line 5\u001b[0m\n\u001b[1;32m      2\u001b[0m a \u001b[38;5;241m=\u001b[39m \u001b[38;5;28mint\u001b[39m(\u001b[38;5;28minput\u001b[39m(\u001b[38;5;124m'\u001b[39m\u001b[38;5;124mEnter only even numbers :\u001b[39m\u001b[38;5;124m'\u001b[39m))\n\u001b[1;32m      4\u001b[0m \u001b[38;5;28;01mif\u001b[39;00m a \u001b[38;5;241m%\u001b[39m \u001b[38;5;241m2\u001b[39m \u001b[38;5;241m!=\u001b[39m \u001b[38;5;241m0\u001b[39m:\n\u001b[0;32m----> 5\u001b[0m     \u001b[38;5;28;01mraise\u001b[39;00m \u001b[38;5;167;01mException\u001b[39;00m(\u001b[38;5;124m\"\u001b[39m\u001b[38;5;124mThe number shouldn\u001b[39m\u001b[38;5;124m'\u001b[39m\u001b[38;5;124mt be an odd integer\u001b[39m\u001b[38;5;124m\"\u001b[39m)\n",
      "\u001b[0;31mException\u001b[0m: The number shouldn't be an odd integer"
     ]
    }
   ],
   "source": [
    "# raise is used to raise an customized exceptions or errors.\n",
    "a = int(input('Enter only even numbers :'))\n",
    "  \n",
    "if a % 2 != 0:\n",
    "    raise Exception(\"The number shouldn't be an odd integer\")"
   ]
  },
  {
   "cell_type": "markdown",
   "id": "0f0d3731-0db2-411c-9519-518dcb22d3de",
   "metadata": {},
   "source": [
    "Q5) What are custom exceptions in python ? Why do we need custom exceptions? Explain with an example."
   ]
  },
  {
   "cell_type": "markdown",
   "id": "f30ad616-b98d-4644-8067-e0b7798b3fa4",
   "metadata": {},
   "source": [
    "When we create our own exceptions and raise explicitly for corresponding scenarios. Such types of exceptions are called customized Exceptions or Programmatic Exceptions.\n",
    "\n",
    "Custom exceptions provide you the flexibility to add attributes and methods that are not part of a standard exception."
   ]
  },
  {
   "cell_type": "code",
   "execution_count": 6,
   "id": "f2ad4fcf-fca8-4df2-a76b-516e98623434",
   "metadata": {},
   "outputs": [
    {
     "name": "stdin",
     "output_type": "stream",
     "text": [
      "Enter a positive integer:  -10\n"
     ]
    },
    {
     "name": "stdout",
     "output_type": "stream",
     "text": [
      "You provided -10. Please provide positive integer values only\n"
     ]
    }
   ],
   "source": [
    "class NegativeError(Exception):\n",
    "   def __init__(self, data):\n",
    "       self.data = data\n",
    "try:\n",
    "   x = int(input(\"Enter a positive integer: \"))\n",
    "   if x < 0:\n",
    "       raise NegativeError(x)\n",
    "except NegativeError as e:\n",
    "   print(\"You provided {}. Please provide positive integer values only\".format(e))"
   ]
  },
  {
   "cell_type": "markdown",
   "id": "e9640b30-e6ba-4ba2-baff-308d54e4b5d4",
   "metadata": {},
   "source": [
    "Q6) Create a custom exception class. Use this class to handle an exception"
   ]
  },
  {
   "cell_type": "code",
   "execution_count": 9,
   "id": "3488032a-2347-40dd-85da-8f205f4f285c",
   "metadata": {},
   "outputs": [
    {
     "name": "stdin",
     "output_type": "stream",
     "text": [
      "Enter your age :  -56\n"
     ]
    },
    {
     "name": "stdout",
     "output_type": "stream",
     "text": [
      "You Entered -ve age\n"
     ]
    }
   ],
   "source": [
    "class NegativeAgeError(Exception):\n",
    "    def __init__(self,msg):\n",
    "        self.msg=msg\n",
    "    \n",
    "try:\n",
    "    age=int(input('Enter your age : '))\n",
    "    if(age<0):\n",
    "        raise NegativeAgeError(\"You Entered -ve age\")\n",
    "except NegativeAgeError as e:\n",
    "    print(e)"
   ]
  },
  {
   "cell_type": "code",
   "execution_count": null,
   "id": "79629372-9bbb-4826-a5fd-027ab1424e15",
   "metadata": {},
   "outputs": [],
   "source": []
  }
 ],
 "metadata": {
  "kernelspec": {
   "display_name": "Python 3 (ipykernel)",
   "language": "python",
   "name": "python3"
  },
  "language_info": {
   "codemirror_mode": {
    "name": "ipython",
    "version": 3
   },
   "file_extension": ".py",
   "mimetype": "text/x-python",
   "name": "python",
   "nbconvert_exporter": "python",
   "pygments_lexer": "ipython3",
   "version": "3.10.8"
  }
 },
 "nbformat": 4,
 "nbformat_minor": 5
}
