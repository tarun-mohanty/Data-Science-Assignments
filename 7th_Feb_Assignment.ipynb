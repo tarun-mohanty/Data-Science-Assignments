{
 "cells": [
  {
   "cell_type": "markdown",
   "id": "53344d86-5ea2-4891-b0f6-5a3efbb67fab",
   "metadata": {},
   "source": [
    "Q1) You are writing code for a company. The requirement of the company is that you create a python\n",
    "function that will check whether the password entered by the user is correct or not. The function should\n",
    "take the password as input and return the string “Valid Password” if the entered password follows the\n",
    "below-given password guidelines else it should return “Invalid Password”.\n",
    "\n",
    "Note: 1. The Password should contain at least two uppercase letters and at least two lowercase letters.  \n",
    "2. The Password should contain at least a number and three special characters.  \n",
    "3. The length of the password should be 10 characters long."
   ]
  },
  {
   "cell_type": "code",
   "execution_count": 2,
   "id": "56c818bb-a07c-4cc1-97aa-b4e4e0eee68c",
   "metadata": {},
   "outputs": [],
   "source": [
    "def check_password(password):\n",
    "    if len(password)!=10:\n",
    "        return \"Invalid Password\"\n",
    "    else:\n",
    "        p=list(password)\n",
    "        nup,nlw,nnm,spe=0,0,0,0\n",
    "        for x in p:\n",
    "            ascii=ord(x)\n",
    "            if ascii>=97 and ascii<=122:\n",
    "                nlw+=1\n",
    "            elif ascii>=65 and ascii<=90:\n",
    "                nup+=1\n",
    "            elif ascii>=48 and ascii<=57:\n",
    "                nnm+=1\n",
    "            else:\n",
    "                spe+=1\n",
    "        if (nup>=2) and (nlw>=2) and (nnm>=1) and (spe==3):\n",
    "            return \"Valid Password\"\n",
    "        else:\n",
    "            return \"Invalid Password\""
   ]
  },
  {
   "cell_type": "code",
   "execution_count": 6,
   "id": "cb0ffaba-2b33-495a-8dd0-62818b2a01b6",
   "metadata": {},
   "outputs": [
    {
     "name": "stdin",
     "output_type": "stream",
     "text": [
      "Enter Password :  TAaa1###12\n"
     ]
    },
    {
     "name": "stdout",
     "output_type": "stream",
     "text": [
      "Valid Password\n"
     ]
    }
   ],
   "source": [
    "password=input('Enter Password : ')\n",
    "print(check_password(password))"
   ]
  },
  {
   "cell_type": "markdown",
   "id": "0749bbe2-07a4-4dd3-b96e-1296856c2150",
   "metadata": {},
   "source": [
    "Q2) Solve the below-given questions using at least one of the following:  \n",
    "1. Lambda function  \n",
    "2. Filter function  \n",
    "3. Zap function\n",
    "4. List Comprehension "
   ]
  },
  {
   "cell_type": "code",
   "execution_count": 19,
   "id": "c3c8f85b-4395-4a68-a06d-52bf91ee7e32",
   "metadata": {},
   "outputs": [
    {
     "data": {
      "text/plain": [
       "True"
      ]
     },
     "execution_count": 19,
     "metadata": {},
     "output_type": "execute_result"
    }
   ],
   "source": [
    "# Check if the string starts with a particular letter\n",
    "\n",
    "fun1=lambda string,letter : string.startswith(letter)\n",
    "fun1('Tarun','T')"
   ]
  },
  {
   "cell_type": "code",
   "execution_count": 23,
   "id": "8a875b46-13b5-4e4a-acbc-27b67be5f5e3",
   "metadata": {},
   "outputs": [
    {
     "data": {
      "text/plain": [
       "True"
      ]
     },
     "execution_count": 23,
     "metadata": {},
     "output_type": "execute_result"
    }
   ],
   "source": [
    "# Check if the string is numeric.\n",
    "\n",
    "fun2= lambda string : string.isnumeric()\n",
    "fun2('10')"
   ]
  },
  {
   "cell_type": "code",
   "execution_count": 44,
   "id": "fced7afd-2751-4449-be88-40518f4ba03e",
   "metadata": {},
   "outputs": [
    {
     "name": "stdout",
     "output_type": "stream",
     "text": [
      "[('orange', 80), ('mango', 99), ('grapes', 1000)]\n"
     ]
    }
   ],
   "source": [
    "# Sort a list of tuples having fruit names and their quantity. [(\"mango\",99),(\"orange\",80), (\"grapes\", 1000)]\n",
    "l1=[(\"mango\",99),(\"orange\",80), (\"grapes\", 1000)]\n",
    "\n",
    "def fun3(tuple):\n",
    "    return tuple[1]\n",
    "\n",
    "l1.sort(key=fun3)\n",
    "print(l1)"
   ]
  },
  {
   "cell_type": "code",
   "execution_count": 26,
   "id": "e9431f9a-fc4e-4dea-bc26-3f38fca0b24c",
   "metadata": {},
   "outputs": [
    {
     "data": {
      "text/plain": [
       "[1, 4, 9, 16, 25, 36, 49, 64, 81, 100]"
      ]
     },
     "execution_count": 26,
     "metadata": {},
     "output_type": "execute_result"
    }
   ],
   "source": [
    "# Find the squares of numbers from 1 to 10.\n",
    "\n",
    "l1=[i**2 for i in range(1,11)]\n",
    "l1"
   ]
  },
  {
   "cell_type": "code",
   "execution_count": 27,
   "id": "d711d6f3-9699-408a-b678-8fe6d4923f0a",
   "metadata": {},
   "outputs": [
    {
     "data": {
      "text/plain": [
       "[1.0,\n",
       " 1.2599210498948732,\n",
       " 1.4422495703074083,\n",
       " 1.5874010519681994,\n",
       " 1.7099759466766968,\n",
       " 1.8171205928321397,\n",
       " 1.912931182772389,\n",
       " 2.0,\n",
       " 2.080083823051904,\n",
       " 2.154434690031884]"
      ]
     },
     "execution_count": 27,
     "metadata": {},
     "output_type": "execute_result"
    }
   ],
   "source": [
    "# Find the cube root of numbers from 1 to 10.\n",
    "\n",
    "l2=[i**(1/3) for i in range(1,11)]\n",
    "l2"
   ]
  },
  {
   "cell_type": "code",
   "execution_count": 30,
   "id": "b0cf348c-c713-4e80-8d31-a3a89ebcaf51",
   "metadata": {},
   "outputs": [
    {
     "data": {
      "text/plain": [
       "True"
      ]
     },
     "execution_count": 30,
     "metadata": {},
     "output_type": "execute_result"
    }
   ],
   "source": [
    "# Check if a given number is even.\n",
    "\n",
    "fun3= lambda x : True if x%2==0 else False\n",
    "fun3(10)"
   ]
  },
  {
   "cell_type": "code",
   "execution_count": 32,
   "id": "249a028d-d07a-4fd6-91ab-4b2e01ee421e",
   "metadata": {},
   "outputs": [
    {
     "data": {
      "text/plain": [
       "[1, 3, 5, 7, 9]"
      ]
     },
     "execution_count": 32,
     "metadata": {},
     "output_type": "execute_result"
    }
   ],
   "source": [
    "# Filter odd numbers from the given list.\n",
    "# [1,2,3,4,5,6,7,8,9,10]\n",
    "\n",
    "l1=[1,2,3,4,5,6,7,8,9,10]\n",
    "l2=list(filter(lambda x: x%2==1,l1))\n",
    "l2"
   ]
  },
  {
   "cell_type": "code",
   "execution_count": 42,
   "id": "92a4f01e-f120-4c6c-8db8-ed5a50a580ce",
   "metadata": {},
   "outputs": [
    {
     "name": "stdout",
     "output_type": "stream",
     "text": [
      "[-5, -4, -3, -2, -1, 0, 1, 2, 3, 4, 5, 6]\n"
     ]
    }
   ],
   "source": [
    "# Sort a list of integers into positive and negative integers lists.\n",
    "# [1,2,3,4,5,6,-1,-2,-3,-4,-5,0]\n",
    "l1=[1,2,3,4,5,6,-1,-2,-3,-4,-5,0]\n",
    "l1.sort()\n",
    "print(l1)"
   ]
  },
  {
   "cell_type": "code",
   "execution_count": null,
   "id": "0ca36f13-724a-45d3-8422-cf3b65dbd105",
   "metadata": {},
   "outputs": [],
   "source": []
  }
 ],
 "metadata": {
  "kernelspec": {
   "display_name": "Python 3 (ipykernel)",
   "language": "python",
   "name": "python3"
  },
  "language_info": {
   "codemirror_mode": {
    "name": "ipython",
    "version": 3
   },
   "file_extension": ".py",
   "mimetype": "text/x-python",
   "name": "python",
   "nbconvert_exporter": "python",
   "pygments_lexer": "ipython3",
   "version": "3.10.8"
  }
 },
 "nbformat": 4,
 "nbformat_minor": 5
}
