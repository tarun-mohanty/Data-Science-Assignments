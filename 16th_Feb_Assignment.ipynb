{
 "cells": [
  {
   "cell_type": "markdown",
   "id": "1cd3d765-f027-4c62-8fec-9763dff75aae",
   "metadata": {},
   "source": [
    "Q1) What is a database? Differentiate between SQL and NoSQL databases."
   ]
  },
  {
   "cell_type": "markdown",
   "id": "3938bc0f-621e-4f79-942e-9254b7dc6c20",
   "metadata": {},
   "source": [
    "A database is an organized collection of structured information, or data, typically stored electronically in a computer system.\n",
    "\n",
    "SQL is a Relational Database Management System where as NoSQL is Non-relational or distributed database system.  \n",
    "SQL have fixed or static or predefined schema where as NoSQL have dynamic schema.  \n",
    "SQL databases are not suited for hierarchical data storage where as NoSQL databases are best suited for hierarchical data storage. "
   ]
  },
  {
   "cell_type": "markdown",
   "id": "7ac55db5-5620-428f-957d-b40d2a32a987",
   "metadata": {},
   "source": [
    "Q2) What is DDL? Explain why CREATE, DROP, ALTER, and TRUNCATE are used with an example."
   ]
  },
  {
   "cell_type": "markdown",
   "id": "f8a5f88f-d3e2-425c-a4bd-6b8be0c47853",
   "metadata": {},
   "source": [
    "Data Definition Language(DDL) is a subset of SQL and a part of DBMS.  \n",
    "\n",
    "CREATE command is used to create a new table in SQL.  \n",
    "eg: CREATE TABLE if not exists student_details(roll INT, name VARCHAR, course VARCHAR);\n",
    "\n",
    "DROP command is used to remove an existing table along with its structure from the Database.  \n",
    "eg: DROP TABLE student_details;\n",
    "\n",
    "ALTER command is used to add, delete or change columns in the existing table.  \n",
    "eg: ALTER TABLE student_details ADD mobile_num number;\n",
    "\n",
    "TRUNCATE command is used to remove all rows from the table, but the structure of the table still exists.  \n",
    "eg: TRUNCATE TABLE student_details;"
   ]
  },
  {
   "cell_type": "markdown",
   "id": "5ad06bb9-4054-43e3-9ac7-75b187943e98",
   "metadata": {},
   "source": [
    "Q3) What is DML? Explain INSERT, UPDATE, and DELETE with an example."
   ]
  },
  {
   "cell_type": "markdown",
   "id": "6abb7a8a-e685-4ce2-8410-2e1ecde87031",
   "metadata": {},
   "source": [
    "DML(Data Manipulation Language) is used to insert, update, delete the data in the database.\n",
    "\n",
    "INSERT command is used to insert data into a table.  \n",
    "eg: Insert into student_details(roll, name, course) values (1,\"tarun\",\"data science masters\");\n",
    "\n",
    "UPDATE command is used to update existing data within a table.  \n",
    "eg: UPDATE student_details SET course=web dev WHERE roll=1;\n",
    "\n",
    "DELETE command is used to delete records from a database table.  \n",
    "eg: DELETE from student_details WHERE roll=1;"
   ]
  },
  {
   "cell_type": "markdown",
   "id": "94f17abf-ac90-4a7a-ab5e-70163763542f",
   "metadata": {},
   "source": [
    "Q4) What is DQL? Explain SELECT with an example."
   ]
  },
  {
   "cell_type": "markdown",
   "id": "34c14197-38ef-430b-8355-c7ca1238345c",
   "metadata": {},
   "source": [
    "Data Query Language (DQL) is used to query the data and information contained in schema objects.\n",
    "\n",
    "SELECT command is used to retrieve data from the database.  \n",
    "eg: SELECT * from student_details;"
   ]
  },
  {
   "cell_type": "markdown",
   "id": "2d44e4d7-9ce2-48ed-9846-d7f6fa2f7ca9",
   "metadata": {},
   "source": [
    "Q5) Explain Primary Key and Foreign Key."
   ]
  },
  {
   "cell_type": "markdown",
   "id": "1e270965-83a1-41b5-bc41-974402c23626",
   "metadata": {},
   "source": [
    "A primary key uniquely identifies a record in the relational database table. A primary key is used to ensure data in the specific column is unique.\n",
    "\n",
    "A foreign key is a column or group of columns in a relational database table that provides a link between data in two tables. It is a column (or columns) that references a column (most often the primary key) of another table. "
   ]
  },
  {
   "cell_type": "markdown",
   "id": "a391db0d-4b71-48b3-8b6b-f2ee1fabcddd",
   "metadata": {},
   "source": [
    "Q6) Write a python code to connect MySQL to python. Explain the cursor() and execute() method."
   ]
  },
  {
   "cell_type": "raw",
   "id": "daddd390-cc16-406f-95a5-1091f555b072",
   "metadata": {},
   "source": [
    "import mysql.connector\n",
    "mydb = mysql.connector.connect(\n",
    "  host=\"localhost\",\n",
    "  user=\"abc\",\n",
    "  password=\"password\"\n",
    ")\n",
    "mycursor = mydb.cursor()"
   ]
  },
  {
   "cell_type": "markdown",
   "id": "8c58ef88-ce34-402f-ae5d-7cc4bc9ef230",
   "metadata": {},
   "source": [
    "Cursors are created by the cursor() method: they are bound to the connection for the entire lifetime and all the commands are executed in the context of the database session wrapped by the connection.\n",
    "\n",
    "execute() method executes the given database operation (query or command)."
   ]
  },
  {
   "cell_type": "markdown",
   "id": "8b5db048-39ee-41f6-8582-094536421d2d",
   "metadata": {},
   "source": [
    "Q7) Give the order of execution of SQL clauses in an SQL query."
   ]
  },
  {
   "cell_type": "markdown",
   "id": "d6be5e33-9ad9-4c21-be96-9cb9c3022729",
   "metadata": {},
   "source": [
    "FROM  \n",
    "WHERE  \n",
    "GROUP BY  \n",
    "HAVING  \n",
    "SELECT  \n",
    "ORDER BY  \n",
    "LIMIT  "
   ]
  }
 ],
 "metadata": {
  "kernelspec": {
   "display_name": "Python 3 (ipykernel)",
   "language": "python",
   "name": "python3"
  },
  "language_info": {
   "codemirror_mode": {
    "name": "ipython",
    "version": 3
   },
   "file_extension": ".py",
   "mimetype": "text/x-python",
   "name": "python",
   "nbconvert_exporter": "python",
   "pygments_lexer": "ipython3",
   "version": "3.10.8"
  }
 },
 "nbformat": 4,
 "nbformat_minor": 5
}
