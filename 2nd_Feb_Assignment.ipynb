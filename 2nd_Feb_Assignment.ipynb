{
 "cells": [
  {
   "cell_type": "markdown",
   "id": "80a253bf-5794-45c9-90bb-c16dc99ec561",
   "metadata": {},
   "source": [
    "Q1. Explain with an example each when to use a for loop and a while loop."
   ]
  },
  {
   "cell_type": "markdown",
   "id": "8c1542e1-7bdf-4adf-b67d-ed1dc88eaeb7",
   "metadata": {},
   "source": [
    "A: For loop is used when we already know the number of iterations, where as while loop is used when we don't know the number of iterations it take to finish the loop at beginning."
   ]
  },
  {
   "cell_type": "code",
   "execution_count": 4,
   "id": "421c326e-95b6-40b4-9640-1cb9c7bf3624",
   "metadata": {
    "tags": []
   },
   "outputs": [
    {
     "name": "stdout",
     "output_type": "stream",
     "text": [
      "[0, 1, 4, 9, 16, 25, 36, 49, 64, 81]\n"
     ]
    }
   ],
   "source": [
    "#for Loop for Squaring first 10 numbers\n",
    "l=[]\n",
    "for i in range(10):\n",
    "    l.append(i**2)\n",
    "print(l)"
   ]
  },
  {
   "cell_type": "code",
   "execution_count": 6,
   "id": "195c99ae-5d3a-43d5-bb2e-fe0196c913e6",
   "metadata": {
    "tags": []
   },
   "outputs": [
    {
     "name": "stdout",
     "output_type": "stream",
     "text": [
      "[-7, -6, 8, 3, 5]\n"
     ]
    }
   ],
   "source": [
    "#while loop for separating -ve and +ve numbers of a list\n",
    "numbers=[5,-6,8,-7,3]\n",
    "i=0\n",
    "j=len(numbers)-1\n",
    "while i<j:\n",
    "    if numbers[i]<0:\n",
    "        i=i+1\n",
    "    else:\n",
    "        numbers[i],numbers[j]=numbers[j],numbers[i]\n",
    "        j=j-1\n",
    "        \n",
    "print(numbers)\n",
    "    "
   ]
  },
  {
   "cell_type": "markdown",
   "id": "1c2f831d-760b-4b30-aafa-e3c51fe6f4b5",
   "metadata": {},
   "source": [
    "Q2. Write a python program to print the sum and product of the first 10 natural numbers using for\n",
    "and while loop."
   ]
  },
  {
   "cell_type": "code",
   "execution_count": 9,
   "id": "ade968d2-ebb3-4165-9761-2cda18060b84",
   "metadata": {},
   "outputs": [
    {
     "name": "stdout",
     "output_type": "stream",
     "text": [
      "55\n"
     ]
    }
   ],
   "source": [
    "#sum of first 10 natural numbers using for loop\n",
    "sum=0\n",
    "for i in range(1,11):\n",
    "    sum+=i\n",
    "print(sum)"
   ]
  },
  {
   "cell_type": "code",
   "execution_count": 10,
   "id": "088008e5-c3b2-4bbc-b370-89b57b0f2221",
   "metadata": {},
   "outputs": [
    {
     "name": "stdout",
     "output_type": "stream",
     "text": [
      "55\n"
     ]
    }
   ],
   "source": [
    "#sum of first 10 natural numbers using while loop\n",
    "sum=0\n",
    "counter=1\n",
    "while counter<=10:\n",
    "    sum+=counter\n",
    "    counter+=1\n",
    "print(sum)"
   ]
  },
  {
   "cell_type": "code",
   "execution_count": 8,
   "id": "722d58db-0c79-4bed-b138-f56dea90eea0",
   "metadata": {},
   "outputs": [
    {
     "name": "stdout",
     "output_type": "stream",
     "text": [
      "3628800\n"
     ]
    }
   ],
   "source": [
    "#product of first 10 natural numbers using for loop\n",
    "product=1\n",
    "for i in range(1,11):\n",
    "    product*=i\n",
    "print(product)"
   ]
  },
  {
   "cell_type": "code",
   "execution_count": 11,
   "id": "173307b7-a841-4a51-8383-463a028f450f",
   "metadata": {},
   "outputs": [
    {
     "name": "stdout",
     "output_type": "stream",
     "text": [
      "3628800\n"
     ]
    }
   ],
   "source": [
    "#product of first 10 natural numbers using while loop\n",
    "product=1\n",
    "counter=1\n",
    "while counter<=10:\n",
    "    product*=counter\n",
    "    counter+=1\n",
    "print(product)"
   ]
  },
  {
   "cell_type": "markdown",
   "id": "1bbe1cf7-1bae-480e-bcce-fb75c192928c",
   "metadata": {},
   "source": [
    "Q3. Create a python program to compute the electricity bill for a household.\n",
    "\n",
    "The per-unit charges in rupees are as follows: For the first 100 units, the user will be charged Rs. 4.5 per\n",
    "unit, for the next 100 units, the user will be charged Rs. 6 per unit, and for the next 100 units, the user will\n",
    "be charged Rs. 10 per unit, After 300 units and above the user will be charged Rs. 20 per unit.\n",
    "You are required to take the units of electricity consumed in a month from the user as input.\n",
    "Your program must pass this test case: when the unit of electricity consumed by the user in a month is\n",
    "310, the total electricity bill should be 2250."
   ]
  },
  {
   "cell_type": "code",
   "execution_count": 18,
   "id": "20f79752-1ff3-4f6a-ad7a-e6e516dd0ca2",
   "metadata": {},
   "outputs": [
    {
     "name": "stdin",
     "output_type": "stream",
     "text": [
      "Enter your number of units of electricity consumed:  310\n"
     ]
    },
    {
     "name": "stdout",
     "output_type": "stream",
     "text": [
      "Your Bill is :  2250\n"
     ]
    }
   ],
   "source": [
    "units=int(input('Enter your number of units of electricity consumed: '))\n",
    "\n",
    "amount=0\n",
    "if units<=100:\n",
    "    amount=units*4.5\n",
    "elif units<=200:\n",
    "    amount=100*4.5+(units-100)*6\n",
    "elif units<=300:\n",
    "    amount=100*4.5+100*6+(units-200)*10\n",
    "else:\n",
    "    amount=100*4.5+100*6+100*10+(units-300)*20\n",
    "\n",
    "print('Your Bill is : ',int(amount))"
   ]
  },
  {
   "cell_type": "markdown",
   "id": "23789f9c-481f-4577-83be-d0eeb741abc1",
   "metadata": {},
   "source": [
    "Q4. Create a list of numbers from 1 to 100. Use for loop and while loop to calculate the cube of each\n",
    "number and if the cube of that number is divisible by 4 or 5 then append that number in a list and print\n",
    "that list."
   ]
  },
  {
   "cell_type": "code",
   "execution_count": 24,
   "id": "4e08fd63-b3c1-431c-8efa-63450efded03",
   "metadata": {},
   "outputs": [
    {
     "name": "stdout",
     "output_type": "stream",
     "text": [
      "[2, 4, 5, 6, 8, 10, 12, 14, 15, 16, 18, 20, 22, 24, 25, 26, 28, 30, 32, 34, 35, 36, 38, 40, 42, 44, 45, 46, 48, 50, 52, 54, 55, 56, 58, 60, 62, 64, 65, 66, 68, 70, 72, 74, 75, 76, 78, 80, 82, 84, 85, 86, 88, 90, 92, 94, 95, 96, 98, 100]\n"
     ]
    }
   ],
   "source": [
    "#using for loop\n",
    "\n",
    "l1=list(range(1,101))\n",
    "\n",
    "result=[]\n",
    "\n",
    "for i in l1:\n",
    "    if ((i**3)%4)==0 or ((i**3)%5)==0:\n",
    "        result.append(i)\n",
    "print(result)"
   ]
  },
  {
   "cell_type": "code",
   "execution_count": 25,
   "id": "2948aeb0-1ad2-4092-9d19-f3d0311e42ac",
   "metadata": {},
   "outputs": [
    {
     "name": "stdout",
     "output_type": "stream",
     "text": [
      "[2, 4, 5, 6, 8, 10, 12, 14, 15, 16, 18, 20, 22, 24, 25, 26, 28, 30, 32, 34, 35, 36, 38, 40, 42, 44, 45, 46, 48, 50, 52, 54, 55, 56, 58, 60, 62, 64, 65, 66, 68, 70, 72, 74, 75, 76, 78, 80, 82, 84, 85, 86, 88, 90, 92, 94, 95, 96, 98, 100]\n"
     ]
    }
   ],
   "source": [
    "# using while loop\n",
    "l1=list(range(1,101))\n",
    "counter=0\n",
    "l2=[]\n",
    "while counter<100:\n",
    "    if (l1[counter]**3%4)==0 or (l1[counter]**3%5)==0:\n",
    "        l2.append(l1[counter])\n",
    "    counter+=1\n",
    "print(l2)"
   ]
  },
  {
   "cell_type": "markdown",
   "id": "3944d1f9-34ee-4605-9a7b-29699372420b",
   "metadata": {},
   "source": [
    "Q5. Write a program to filter count vowels in the below-given string.\n",
    "string = \"I want to become a data scientist\""
   ]
  },
  {
   "cell_type": "code",
   "execution_count": 26,
   "id": "1b65ba65-9cdc-4cb2-ab9b-68039fe96bdc",
   "metadata": {},
   "outputs": [
    {
     "name": "stdout",
     "output_type": "stream",
     "text": [
      "Number of Vowels are : 12\n"
     ]
    }
   ],
   "source": [
    "string = \"I want to become a data scientist\"\n",
    "count=0\n",
    "for i in string:\n",
    "    if i.lower() in ['a','e','i','o','u']:\n",
    "        count+=1\n",
    "\n",
    "print('Number of Vowels are :',count)\n",
    "        "
   ]
  },
  {
   "cell_type": "code",
   "execution_count": null,
   "id": "64ce31fe-5f7e-43b0-9b40-872b018932c9",
   "metadata": {},
   "outputs": [],
   "source": []
  }
 ],
 "metadata": {
  "kernelspec": {
   "display_name": "Python 3 (ipykernel)",
   "language": "python",
   "name": "python3"
  },
  "language_info": {
   "codemirror_mode": {
    "name": "ipython",
    "version": 3
   },
   "file_extension": ".py",
   "mimetype": "text/x-python",
   "name": "python",
   "nbconvert_exporter": "python",
   "pygments_lexer": "ipython3",
   "version": "3.10.8"
  }
 },
 "nbformat": 4,
 "nbformat_minor": 5
}
