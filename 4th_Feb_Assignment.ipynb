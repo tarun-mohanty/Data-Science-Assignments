{
 "cells": [
  {
   "cell_type": "markdown",
   "id": "59a42a0b-9c50-4334-82f7-76700ec394dc",
   "metadata": {
    "jp-MarkdownHeadingCollapsed": true,
    "tags": []
   },
   "source": [
    "Q1) Create a python program to sort the given list of tuples based on integer value using a  lambda function.  \n",
    "[('Sachin Tendulkar', 34357), ('Ricky Ponting', 27483), ('Jack Kallis', 25534), ('Virat Kohli', 24936)] \n"
   ]
  },
  {
   "cell_type": "code",
   "execution_count": 4,
   "id": "c5a76758-6725-4dcf-b3f6-a697c8c51656",
   "metadata": {},
   "outputs": [
    {
     "name": "stdout",
     "output_type": "stream",
     "text": [
      "[('Virat Kohli', 24936), ('Jack Kallis', 25534), ('Ricky Ponting', 27483), ('Sachin Tendulkar', 34357)]\n"
     ]
    }
   ],
   "source": [
    "l=[('Sachin Tendulkar', 34357), ('Ricky Ponting', 27483), ('Jack Kallis', 25534), ('Virat Kohli', 24936)]\n",
    "\n",
    "l.sort(key= lambda x:x[1])\n",
    "\n",
    "print(l)"
   ]
  },
  {
   "cell_type": "markdown",
   "id": "900c9cd1-b59c-4632-b7b9-76813bfbc3fb",
   "metadata": {},
   "source": [
    "Q2) Write a Python Program to find the squares of all the numbers in the given list of integers using  lambda and map functions. \n",
    "[1, 2, 3, 4, 5, 6, 7, 8, 9, 10] \n"
   ]
  },
  {
   "cell_type": "code",
   "execution_count": 5,
   "id": "5b78c9c2-1496-4b56-ab82-5112671f397e",
   "metadata": {},
   "outputs": [
    {
     "name": "stdout",
     "output_type": "stream",
     "text": [
      "[1, 4, 9, 16, 25, 36, 49, 64, 81, 100]\n"
     ]
    }
   ],
   "source": [
    "l1=[1, 2, 3, 4, 5, 6, 7, 8, 9, 10]\n",
    "\n",
    "print(list(map(lambda x : x**2,l1)))"
   ]
  },
  {
   "cell_type": "markdown",
   "id": "66c72c7d-2047-4590-a310-c325e7deabd1",
   "metadata": {},
   "source": [
    "Q3) Write a python program to convert the given list of integers into a tuple of strings. Use map and  lambda functions \n",
    "Given String: [1, 2, 3, 4, 5, 6, 7, 8, 9, 10] \n",
    "\n",
    "Expected output: ('1', '2', '3', '4', '5', '6', '7', '8', '9', '10') \n"
   ]
  },
  {
   "cell_type": "code",
   "execution_count": 6,
   "id": "e782261d-e3e9-4ed7-ba47-3b27dce43c30",
   "metadata": {},
   "outputs": [
    {
     "name": "stdout",
     "output_type": "stream",
     "text": [
      "('1', '2', '3', '4', '5', '6', '7', '8', '9', '10')\n"
     ]
    }
   ],
   "source": [
    "l1=[1, 2, 3, 4, 5, 6, 7, 8, 9, 10]\n",
    "\n",
    "print(tuple(map(lambda x : str(x),l1)))"
   ]
  },
  {
   "cell_type": "markdown",
   "id": "220c30fc-37bb-448e-9865-bc826f46665b",
   "metadata": {},
   "source": [
    "Q4)  Write a python program using reduce function to compute the product of a list containing numbers  from 1 to 25. "
   ]
  },
  {
   "cell_type": "code",
   "execution_count": 7,
   "id": "21978823-9f79-4461-aa80-e94c4840b5ff",
   "metadata": {},
   "outputs": [
    {
     "name": "stdout",
     "output_type": "stream",
     "text": [
      "15511210043330985984000000\n"
     ]
    }
   ],
   "source": [
    "from functools import reduce\n",
    "\n",
    "l1=[i for i in range(1,26)]\n",
    "print(reduce(lambda x,y: x*y,l1))"
   ]
  },
  {
   "cell_type": "markdown",
   "id": "b2cefde5-ac86-40b8-927a-fc6f3ec3a358",
   "metadata": {},
   "source": [
    "Q5) Write a python program to filter the numbers in a given list that are divisible by 2 and 3 using the  filter function. \n",
    "\n",
    "[2, 3, 6, 9, 27, 60, 90, 120, 55, 46] \n"
   ]
  },
  {
   "cell_type": "code",
   "execution_count": 11,
   "id": "c125953d-6187-4718-b19d-b7b65352e1eb",
   "metadata": {},
   "outputs": [
    {
     "name": "stdout",
     "output_type": "stream",
     "text": [
      "[6, 60, 90, 120]\n"
     ]
    }
   ],
   "source": [
    "l1=[2, 3, 6, 9, 27, 60, 90, 120, 55, 46]\n",
    "\n",
    "print(list(filter(lambda x: (x%2==0 and x%3==0),l1)))"
   ]
  },
  {
   "cell_type": "markdown",
   "id": "58ba1b58-023d-4247-bc8d-a7cab06bf872",
   "metadata": {},
   "source": [
    "Q6) Write a python program to find palindromes in the given list of strings using lambda and filter  function.\n",
    "\n",
    "['python', 'php', 'aba', 'radar', 'level'] \n"
   ]
  },
  {
   "cell_type": "code",
   "execution_count": 12,
   "id": "0ad96a87-2257-40be-ad34-880288b583ca",
   "metadata": {},
   "outputs": [
    {
     "name": "stdout",
     "output_type": "stream",
     "text": [
      "['php', 'aba', 'radar', 'level']\n"
     ]
    }
   ],
   "source": [
    "l1=['python', 'php', 'aba', 'radar', 'level']\n",
    "\n",
    "print(list(filter(lambda x: x==x[::-1],l1)))"
   ]
  },
  {
   "cell_type": "code",
   "execution_count": null,
   "id": "4b6fc8bf-03c5-406d-8672-9ff8bfecb515",
   "metadata": {},
   "outputs": [],
   "source": []
  }
 ],
 "metadata": {
  "kernelspec": {
   "display_name": "Python 3 (ipykernel)",
   "language": "python",
   "name": "python3"
  },
  "language_info": {
   "codemirror_mode": {
    "name": "ipython",
    "version": 3
   },
   "file_extension": ".py",
   "mimetype": "text/x-python",
   "name": "python",
   "nbconvert_exporter": "python",
   "pygments_lexer": "ipython3",
   "version": "3.10.8"
  }
 },
 "nbformat": 4,
 "nbformat_minor": 5
}
