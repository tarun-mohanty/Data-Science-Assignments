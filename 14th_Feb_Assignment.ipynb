{
 "cells": [
  {
   "cell_type": "markdown",
   "id": "cdda5775-9ba0-4d02-ab55-9e650814025f",
   "metadata": {},
   "source": [
    "Q1) What is multithreading in python? Why is it used? Name the module used to handle threads in python"
   ]
  },
  {
   "cell_type": "markdown",
   "id": "8ed9af91-0b09-4c25-95cd-2e53d2a10a15",
   "metadata": {},
   "source": [
    "A: Multithreading refers to concurrently executing multiple threads by rapidly switching the control of the CPU between threads.  \n",
    "\n",
    "\n",
    "It is used for efficient utilization of resources as the threads share the same memory and data space.  \n",
    "\n",
    "threading module is used to handle threads in python."
   ]
  },
  {
   "cell_type": "markdown",
   "id": "7d764eb5-ed00-4dd9-be71-eec5a8bbe99b",
   "metadata": {},
   "source": [
    "Q2) Why threading module used? Write the use of the following functions:  \n",
    "1. activeCount()  \n",
    "2. currentThread()  \n",
    "3. enumerate()"
   ]
  },
  {
   "cell_type": "markdown",
   "id": "039ae69d-df70-4012-9b65-76402f623c5e",
   "metadata": {},
   "source": [
    "A: threading is used to run multiple threads (tasks, function calls) at the same time. i.e. to implement multithreading.  \n",
    "\n",
    "activeCount() − Returns the number of thread objects that are active.  \n",
    "\n",
    "currentThread() − Returns the number of thread objects in the caller's thread control.\n",
    "\n",
    "enumerate() − Returns a list of all thread objects that are currently active."
   ]
  },
  {
   "cell_type": "markdown",
   "id": "e13dd080-6979-45df-acce-cc0372de6dd9",
   "metadata": {},
   "source": [
    "Q3) Explain the following functions  \n",
    "1. run()\n",
    "2. start()\n",
    "3. join()\n",
    "4. isAlive()"
   ]
  },
  {
   "cell_type": "markdown",
   "id": "79b20caa-799b-4361-988f-ca4c2c94341f",
   "metadata": {},
   "source": [
    "  \n",
    "The run() method is the entry point for a thread.  \n",
    "The start() method starts a thread by calling the run method.  \n",
    "The join() waits for threads to terminate.  \n",
    "The isAlive() method checks whether a thread is still executing."
   ]
  },
  {
   "cell_type": "markdown",
   "id": "baa25cd4-92b0-4655-a29b-afcff9d2146b",
   "metadata": {},
   "source": [
    "Q4) Write a python program to create two threads. Thread one must print the list of squares and thread\n",
    "two must print the list of cubes."
   ]
  },
  {
   "cell_type": "code",
   "execution_count": 9,
   "id": "c8e25619-222b-4fc9-8319-ca891581af96",
   "metadata": {},
   "outputs": [
    {
     "name": "stdout",
     "output_type": "stream",
     "text": [
      "[1, 4, 9, 16, 25, 36, 49, 64, 81, 100]\n",
      "[1, 8, 27, 64, 125, 216, 343, 512, 729, 1000]\n"
     ]
    }
   ],
   "source": [
    "import threading\n",
    "import time\n",
    "\n",
    "def print_square(l):\n",
    "    l1=[]\n",
    "    for i in l:\n",
    "        l1.append(i**2)\n",
    "    print(l1)\n",
    "        \n",
    "def print_cube(l):\n",
    "    l1=[]\n",
    "    for i in l:\n",
    "        l1.append(i**3)\n",
    "    print(l1)\n",
    "\n",
    "l=[i for i in range(1,11)]        \n",
    "t1 = threading.Thread(target=print_square, args=(l,))\n",
    "t2 = threading.Thread(target=print_cube, args=(l,))\n",
    "\n",
    "t1.start()\n",
    "t2.start()\n",
    "\n",
    "t1.join()\n",
    "t2.join()"
   ]
  },
  {
   "cell_type": "markdown",
   "id": "b1ec51cf-07c9-42fc-a327-a9afbebdb48d",
   "metadata": {},
   "source": [
    "Q5) State advantages and disadvantages of multithreading."
   ]
  },
  {
   "cell_type": "markdown",
   "id": "9ee15b0c-444c-407d-8796-a1df578fe358",
   "metadata": {},
   "source": [
    "Advantages:  \n",
    "Multithreading can help increase the overall performance of an application.  \n",
    " Multithreading allows better utilization of system resources   \n",
    " \n",
    " \n",
    "Disadvantages:  \n",
    "Synchronization overhead: To avoid data corruption and maintain consistency, developers must synchronize access to shared resources  \n",
    "Context switching between threads consumes CPU time and resources."
   ]
  },
  {
   "cell_type": "markdown",
   "id": "74cc7336-a0dc-4b56-bae8-7eed19935e4f",
   "metadata": {},
   "source": [
    "Q6) Explain deadlocks and race conditions."
   ]
  },
  {
   "cell_type": "markdown",
   "id": "d607da4b-b369-48da-b986-0517089e7d08",
   "metadata": {},
   "source": [
    "Deadlock describes a situation where two or more threads are blocked forever, waiting for each other.  \n",
    "\n",
    "A race condition is a situation that may occur inside a critical section. This happens when the result of multiple thread execution in critical section differs according to the order in which the threads execute."
   ]
  }
 ],
 "metadata": {
  "kernelspec": {
   "display_name": "Python 3 (ipykernel)",
   "language": "python",
   "name": "python3"
  },
  "language_info": {
   "codemirror_mode": {
    "name": "ipython",
    "version": 3
   },
   "file_extension": ".py",
   "mimetype": "text/x-python",
   "name": "python",
   "nbconvert_exporter": "python",
   "pygments_lexer": "ipython3",
   "version": "3.10.8"
  }
 },
 "nbformat": 4,
 "nbformat_minor": 5
}
