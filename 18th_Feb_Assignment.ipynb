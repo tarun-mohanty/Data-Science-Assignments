{
 "cells": [
  {
   "cell_type": "markdown",
   "id": "2ab41dea-7aad-453f-84e6-e70a86affa2a",
   "metadata": {},
   "source": [
    "Q1) What is an API? Give an example, where an API is used in real life."
   ]
  },
  {
   "cell_type": "markdown",
   "id": "58cac05e-9e27-4b64-bdb6-2eaacc0f9c6a",
   "metadata": {},
   "source": [
    "An API(Application Programming Interface) is the interface that allows two independent software components to exchange information. An API acts as an intermediary between internal software functions and external ones, creating an exchange of information so seamless that it often goes unnoticed by the end user.\n",
    "\n",
    "Google maps API: using google maps api we can display interactive maps and customize them how you want on your website."
   ]
  },
  {
   "cell_type": "markdown",
   "id": "b62269c1-7234-4ce7-83f9-daf156653e28",
   "metadata": {},
   "source": [
    "Q2) Give advantages and disadvantages of using API."
   ]
  },
  {
   "cell_type": "markdown",
   "id": "8d30926c-0972-48e1-8dd7-b6d09b8b44fc",
   "metadata": {},
   "source": [
    "Advantages:   \n",
    "Increased Interoperability: API solutions enable different software systems to communicate with each other, regardless of their programming language or platform.  \n",
    "Improved Efficiency: API driven infrastructures enable developers to reuse code and functionality from existing software systems.  \n",
    "Better User Experience: APIs can enable third-party developers to create applications that integrate with existing software systems, providing a better user experience and increased functionality.  \n",
    "\n",
    "\n",
    "\n",
    "Disadvantages:  \n",
    "Security Concerns: API infrastructures can be vulnerable to security breaches.  \n",
    "Complexity: APIs can be complex, requiring a significant amount of development effort to implement and maintain.  \n",
    "Dependency on Third-Party Developers: APIs rely on third-party developers to create applications that integrate with the software system. This can create dependencies that are outside of the control of the company that owns the software system."
   ]
  },
  {
   "cell_type": "markdown",
   "id": "e4debd9f-4ba8-41db-adfe-74333f9be9ff",
   "metadata": {},
   "source": [
    "Q3) What is a Web API? Differentiate between API and Web API."
   ]
  },
  {
   "cell_type": "markdown",
   "id": "1679b35f-3ff4-45af-b8c0-d7be3b75e7c9",
   "metadata": {},
   "source": [
    "Web API is an API over the web which can be accessed using HTTP protocol.\n",
    "\n",
    "API:\n",
    "\n",
    "General term referring to a set of rules and protocols for software applications to communicate and interact with each other.\n",
    "Can be used in various contexts, including web-based applications, desktop software, operating systems, databases, and more.\n",
    "Not limited to internet-based communication.\n",
    "\n",
    "Web API:\n",
    "\n",
    "Subset of APIs that are specifically designed to be used over the internet.\n",
    "Primarily used for web-based applications and services.\n",
    "Utilizes web protocols like HTTP and data formats like JSON or XML for data exchange"
   ]
  },
  {
   "cell_type": "markdown",
   "id": "debc379f-23db-436b-8c39-46bbb3223ca3",
   "metadata": {},
   "source": [
    "Q4) Explain REST and SOAP Architecture. Mention shortcomings of SOAP."
   ]
  },
  {
   "cell_type": "markdown",
   "id": "b7105515-37c8-4d02-8a02-e65be9465cbe",
   "metadata": {},
   "source": [
    "REST (Representational State Transfer) and SOAP (Simple Object Access Protocol) are two popular architectural styles used in web services.\n",
    "\n",
    "REST is an architectural style that emphasizes a stateless, client-server communication model.\n",
    "\n",
    "SOAP is a protocol that enables communication between applications over a network. It is based on XML and provides a standard way to structure messages exchanged between clients and servers.\n",
    "\n",
    "Shortcomings of SOAP:\n",
    "\n",
    "Complexity: SOAP is relatively complex compared to REST.  \n",
    "Performance: SOAP messages tend to be larger due to the XML structure, which can impact performance and increase network bandwidth usage.  \n",
    "Overhead: SOAP requires additional processing overhead for XML parsing and validation, which can affect performance and scalability.  "
   ]
  },
  {
   "cell_type": "markdown",
   "id": "2d8b11b4-6038-40d8-bb35-097e94a29a99",
   "metadata": {},
   "source": [
    "Q5) Differentiate between REST and SOAP."
   ]
  },
  {
   "cell_type": "markdown",
   "id": "27c10393-e992-4bf3-9d9b-c590274ef40f",
   "metadata": {},
   "source": [
    "RESTful APIs are relatively simple and easy to understand and use where as SOAP APIs are more complex and have a steeper learning curve.  \n",
    "REST rely on standard HTTP methods and status codes where as SOAP requires generating and parsing XML messages and often involve working with Web Services Description Language (WSDL) to define the contract and message structure.  \n",
    "REST is stateless, meaning the server does not maintain any client state between requests where as SOAP can maintain state through the use of its own session management mechanisms, allowing for more complex interactions.  \n",
    "REST is preferred for simpler, lightweight, and resource-constrained applications, while SOAP is commonly used in enterprise systems that require more formal contract definitions, reliability, and complex interactions."
   ]
  }
 ],
 "metadata": {
  "kernelspec": {
   "display_name": "Python 3 (ipykernel)",
   "language": "python",
   "name": "python3"
  },
  "language_info": {
   "codemirror_mode": {
    "name": "ipython",
    "version": 3
   },
   "file_extension": ".py",
   "mimetype": "text/x-python",
   "name": "python",
   "nbconvert_exporter": "python",
   "pygments_lexer": "ipython3",
   "version": "3.10.8"
  }
 },
 "nbformat": 4,
 "nbformat_minor": 5
}
