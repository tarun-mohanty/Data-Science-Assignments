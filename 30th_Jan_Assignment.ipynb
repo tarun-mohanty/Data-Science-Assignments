{
 "cells": [
  {
   "cell_type": "markdown",
   "id": "df03f08d-c490-47ab-878c-4df3bc0b42b9",
   "metadata": {},
   "source": [
    "Q1)"
   ]
  },
  {
   "cell_type": "code",
   "execution_count": 4,
   "id": "f2becd2d-fd16-40bc-a0ce-748e60fb5ef7",
   "metadata": {},
   "outputs": [
    {
     "name": "stdin",
     "output_type": "stream",
     "text": [
      "Enter your percentage : 90\n"
     ]
    },
    {
     "name": "stdout",
     "output_type": "stream",
     "text": [
      "Your Grade : B\n"
     ]
    }
   ],
   "source": [
    "perc=int(input('Enter your percentage :'))\n",
    "Grade=''\n",
    "if(perc>90):\n",
    "    Grade=\"A\"\n",
    "elif perc>80 and perc<=90:\n",
    "    Grade=\"B\"\n",
    "elif perc>=60 and perc<=80:\n",
    "    Grade=\"C\"\n",
    "elif perc<60:\n",
    "    Grade=\"D\"\n",
    "    \n",
    "print('Your Grade :',Grade)"
   ]
  },
  {
   "cell_type": "markdown",
   "id": "5ca730d7-3a4b-426c-86ca-c1400ef52984",
   "metadata": {},
   "source": [
    "Q2)"
   ]
  },
  {
   "cell_type": "code",
   "execution_count": 11,
   "id": "f80e0d3c-533e-44b6-a545-f50dd0206556",
   "metadata": {},
   "outputs": [
    {
     "name": "stdin",
     "output_type": "stream",
     "text": [
      "Enter Price of your bike : 70000\n"
     ]
    },
    {
     "name": "stdout",
     "output_type": "stream",
     "text": [
      "Tax to be Paid :7000.0 (10%)\n"
     ]
    }
   ],
   "source": [
    "price=int(input('Enter Price of your bike :'))\n",
    "tax=0\n",
    "if(price>100000):\n",
    "    tax=price*0.15\n",
    "    perc=15\n",
    "elif price>50000 and price<=100000:\n",
    "    tax=price*0.1\n",
    "    perc=10\n",
    "elif price<=50000:\n",
    "    tax=price*0.05\n",
    "    perc=5\n",
    "    \n",
    "print('Tax to be Paid :{} ({}%)'.format(tax,perc))"
   ]
  },
  {
   "cell_type": "markdown",
   "id": "9e5c4994-2175-4a34-a4e5-aa445e5ea53a",
   "metadata": {},
   "source": [
    "Q3)"
   ]
  },
  {
   "cell_type": "code",
   "execution_count": 9,
   "id": "543fa70a-0527-4dc5-88ab-60e3f224b87d",
   "metadata": {},
   "outputs": [
    {
     "name": "stdin",
     "output_type": "stream",
     "text": [
      "Enter city name Delhi\n"
     ]
    },
    {
     "name": "stdout",
     "output_type": "stream",
     "text": [
      "Your City Monument is : Red Fort\n"
     ]
    }
   ],
   "source": [
    "city=input(\"Enter city name\")\n",
    "monuments=''\n",
    "if city.lower()=='delhi':\n",
    "    monuments=\"Red Fort\"\n",
    "elif city.lower()=='agra':\n",
    "    monuments=\"Taj Mahal\"\n",
    "if city.lower()=='jaipur':\n",
    "    monuments=\"Jal Mahal\"\n",
    "\n",
    "print('Your City Monument is :',monuments)"
   ]
  },
  {
   "cell_type": "markdown",
   "id": "c9f71613-de1c-4940-94a9-2bf42df73701",
   "metadata": {},
   "source": [
    "Q4). Check how many times a given number can be divided by 3 before it is less than or equal to 10. "
   ]
  },
  {
   "cell_type": "code",
   "execution_count": 18,
   "id": "508d991e-0f48-4a8b-866b-773ebeffa0c1",
   "metadata": {},
   "outputs": [
    {
     "name": "stdin",
     "output_type": "stream",
     "text": [
      "Enter number:  100\n"
     ]
    },
    {
     "name": "stdout",
     "output_type": "stream",
     "text": [
      "Number of times can be divided by 3 before it is <=10 is :  3\n"
     ]
    }
   ],
   "source": [
    "number=int(input('Enter number: '))\n",
    "counter = 0\n",
    "while number > 10:\n",
    "    number /= 3\n",
    "    counter += 1\n",
    "print(\"Number of times can be divided by 3 before it is <=10 is : \",counter)"
   ]
  },
  {
   "cell_type": "markdown",
   "id": "af0c4ece-0805-4092-a456-3ad45e216482",
   "metadata": {},
   "source": [
    "Q5). Why and When to Use while Loop in Python give a detailed description with example "
   ]
  },
  {
   "cell_type": "markdown",
   "id": "5bf46dd6-92b5-48ee-a082-62b9e031dfe4",
   "metadata": {},
   "source": [
    "While loop is used when we don't know the number of iterations it take to finish the loop at beginning."
   ]
  },
  {
   "cell_type": "code",
   "execution_count": 13,
   "id": "cde60ed8-47a7-4cc0-9a50-5d110c044f66",
   "metadata": {},
   "outputs": [
    {
     "name": "stdout",
     "output_type": "stream",
     "text": [
      "[-7, -6, 8, 3, 5]\n"
     ]
    }
   ],
   "source": [
    "#while loop for separating -ve and +ve numbers of a list\n",
    "numbers=[5,-6,8,-7,3]\n",
    "i=0\n",
    "j=len(numbers)-1\n",
    "while i<j:\n",
    "    if numbers[i]<0:\n",
    "        i=i+1\n",
    "    else:\n",
    "        numbers[i],numbers[j]=numbers[j],numbers[i]\n",
    "        j=j-1\n",
    "        \n",
    "print(numbers)\n",
    "    "
   ]
  },
  {
   "cell_type": "markdown",
   "id": "a4c29566-e7e2-4e2a-85b2-ac76c6607242",
   "metadata": {},
   "source": [
    "Q6). Use nested while loop to print 3 different pattern."
   ]
  },
  {
   "cell_type": "code",
   "execution_count": 20,
   "id": "40db81dd-b5fb-47dd-92f2-f2f76386dc92",
   "metadata": {},
   "outputs": [
    {
     "name": "stdout",
     "output_type": "stream",
     "text": [
      "1\n",
      "12\n",
      "123\n",
      "1234\n",
      "12345\n"
     ]
    }
   ],
   "source": [
    "def pattern1(n):\n",
    "    i = 1\n",
    "    while i <= n:\n",
    "        j = 1\n",
    "        while j <= i:\n",
    "            print(j, end=\"\")\n",
    "            j += 1\n",
    "        print()\n",
    "        i += 1\n",
    "pattern1(5)"
   ]
  },
  {
   "cell_type": "code",
   "execution_count": 23,
   "id": "fb4fa530-d699-4897-91c7-4e47cc69d994",
   "metadata": {},
   "outputs": [
    {
     "name": "stdout",
     "output_type": "stream",
     "text": [
      "*****\n",
      "****\n",
      "***\n",
      "**\n",
      "*\n"
     ]
    }
   ],
   "source": [
    "def pattern2(n):\n",
    "    i = n\n",
    "    while i >= 1:\n",
    "        j = 1\n",
    "        while j <= i:\n",
    "            print(\"*\", end=\"\")\n",
    "            j += 1\n",
    "        print()\n",
    "        i -= 1\n",
    "pattern2(5)"
   ]
  },
  {
   "cell_type": "code",
   "execution_count": 24,
   "id": "ca292c77-7b5b-4524-bd93-55ac83f15dda",
   "metadata": {},
   "outputs": [
    {
     "name": "stdout",
     "output_type": "stream",
     "text": [
      "*****\n",
      "*****\n",
      "*****\n",
      "*****\n",
      "*****\n"
     ]
    }
   ],
   "source": [
    "def pattern3(n):\n",
    "    i = n\n",
    "    while i >= 1:\n",
    "        j = 1\n",
    "        while j <= n:\n",
    "            print(\"*\", end=\"\")\n",
    "            j += 1\n",
    "        print()\n",
    "        i -= 1\n",
    "pattern3(5)"
   ]
  },
  {
   "cell_type": "markdown",
   "id": "2f937821-431c-4732-b8f3-0bee97780569",
   "metadata": {},
   "source": [
    "7. Reverse a while loop to display numbers from 10 to 1. "
   ]
  },
  {
   "cell_type": "code",
   "execution_count": 15,
   "id": "86f757e5-b10b-4fce-8f16-e6d8435cfa7b",
   "metadata": {},
   "outputs": [
    {
     "name": "stdout",
     "output_type": "stream",
     "text": [
      "10\n",
      "9\n",
      "8\n",
      "7\n",
      "6\n",
      "5\n",
      "4\n",
      "3\n",
      "2\n",
      "1\n"
     ]
    }
   ],
   "source": [
    "i=10\n",
    "while i>=1:\n",
    "    print(i)\n",
    "    i-=1"
   ]
  },
  {
   "cell_type": "markdown",
   "id": "e8cdde92-da73-4572-a394-9cc212e34c8a",
   "metadata": {},
   "source": [
    "8. Reverse a while loop to display numbers from 10 to 1 "
   ]
  },
  {
   "cell_type": "markdown",
   "id": "3f2575a6-6dff-45a8-bf88-bd65380e5699",
   "metadata": {},
   "source": [
    "Repeated Question"
   ]
  },
  {
   "cell_type": "code",
   "execution_count": null,
   "id": "5ab784aa-4f0a-4ce2-a2ee-729545d3aee4",
   "metadata": {},
   "outputs": [],
   "source": []
  }
 ],
 "metadata": {
  "kernelspec": {
   "display_name": "Python 3 (ipykernel)",
   "language": "python",
   "name": "python3"
  },
  "language_info": {
   "codemirror_mode": {
    "name": "ipython",
    "version": 3
   },
   "file_extension": ".py",
   "mimetype": "text/x-python",
   "name": "python",
   "nbconvert_exporter": "python",
   "pygments_lexer": "ipython3",
   "version": "3.10.8"
  }
 },
 "nbformat": 4,
 "nbformat_minor": 5
}
