{
 "cells": [
  {
   "cell_type": "markdown",
   "id": "1cd72dcd-514f-468e-8f46-41549ffce077",
   "metadata": {},
   "source": [
    "Q1) What is Flask Framework? What are the advantages of Flask Framework?"
   ]
  },
  {
   "cell_type": "markdown",
   "id": "be63344a-6fd5-49b9-bb5f-c4e8ccd0e41c",
   "metadata": {},
   "source": [
    "Flask is a popular web framework written in Python. It is designed to be lightweight, flexible, and easy to use, making it a popular choice for building web applications and APIs.\n",
    "\n",
    "Advantages:  \n",
    "Lightweight and minimalist, Easy to get started, Flexibility, Python integration\n"
   ]
  },
  {
   "cell_type": "markdown",
   "id": "b20f57a6-a568-4d0e-9122-016f7fb5066b",
   "metadata": {},
   "source": [
    "Q2) Create a simple Flask application to display ‘Hello World!!’. Attach the screenshot of the output in\n",
    "Jupyter Notebook."
   ]
  },
  {
   "cell_type": "code",
   "execution_count": 4,
   "id": "c03481a4-8088-411d-80d0-0d62236501f5",
   "metadata": {},
   "outputs": [
    {
     "data": {
      "text/plain": [
       "'https://green-baker-nnplk.pwskills.app/files/work/Screenshot%202023-05-28%20165554.png?_xsrf=2%7C8d68480a%7C07abf1fe76e9f62bc3f397c12522bc03%7C1685017819'"
      ]
     },
     "execution_count": 4,
     "metadata": {},
     "output_type": "execute_result"
    }
   ],
   "source": [
    "'''https://green-baker-nnplk.pwskills.app/files/work/Screenshot%202023-05-28%20165554.png?_xsrf=2%7C8d68480a%7C07abf1fe76e9f62bc3f397c12522bc03%7C1685017819'''"
   ]
  },
  {
   "cell_type": "markdown",
   "id": "d59d5b53-18eb-425a-b6c6-6cf8d10d283a",
   "metadata": {},
   "source": [
    "Q3) What is App routing in Flask? Why do we use app routes?"
   ]
  },
  {
   "cell_type": "markdown",
   "id": "4120542c-ac53-41b6-9b4b-ae366cc74b1f",
   "metadata": {},
   "source": [
    "app routing refers to the process of mapping URLs (Uniform Resource Locators) to specific functions. we use app routes to bind a URL pattern to a function"
   ]
  },
  {
   "cell_type": "markdown",
   "id": "4e245871-cc0c-4a34-ac6e-801ffe848bd5",
   "metadata": {},
   "source": [
    "Q4) Create a “/welcome” route to display the welcome message “Welcome to ABC Corporation” and a “/”\n",
    "route to show the following details:  \n",
    "Company Name: ABC Corporation  \n",
    "Location: India  \n",
    "Contact Detail: 999-999-9999  "
   ]
  },
  {
   "cell_type": "markdown",
   "id": "02c7d642-b5ce-4524-83d2-5812012c18fe",
   "metadata": {},
   "source": [
    "route: \"/\" [https://green-baker-nnplk.pwskills.app/files/work/Screenshot%202023-05-28%20170944.png?_xsrf=2%7C8d68480a%7C07abf1fe76e9f62bc3f397c12522bc03%7C1685017819]\n",
    "\n",
    "route : \"/welcome\" [https://green-baker-nnplk.pwskills.app/files/work/Screenshot%202023-05-28%20171008.png?_xsrf=2%7C8d68480a%7C07abf1fe76e9f62bc3f397c12522bc03%7C1685017819]"
   ]
  },
  {
   "cell_type": "markdown",
   "id": "95242312-4631-42cc-a693-fcb212d2ef0a",
   "metadata": {},
   "source": [
    "Q5) What function is used in Flask for URL Building? Write a Python code to demonstrate the working of the\n",
    "url_for() function."
   ]
  },
  {
   "cell_type": "raw",
   "id": "507be8cd-5f6c-4368-9311-d9d529b2d036",
   "metadata": {},
   "source": [
    "# url_for() is used in Flask for URL Building.\n",
    "\n",
    "@app.route('/admin')\n",
    "def hello_admin():\n",
    "   return 'Hello Admin'\n",
    "\n",
    "@app.route('/guest/<guest>')\n",
    "def hello_guest(guest):\n",
    "   return 'Hello %s as Guest' % guest\n",
    "\n",
    "@app.route('/user/<name>')\n",
    "def hello_user(name):\n",
    "   if name =='admin':\n",
    "      return redirect(url_for('hello_admin'))\n",
    "   else:\n",
    "      return redirect(url_for('hello_guest',guest = name))"
   ]
  },
  {
   "cell_type": "code",
   "execution_count": null,
   "id": "f5797dc8-161a-4d61-aca6-66519a0a3980",
   "metadata": {},
   "outputs": [],
   "source": []
  }
 ],
 "metadata": {
  "kernelspec": {
   "display_name": "Python 3 (ipykernel)",
   "language": "python",
   "name": "python3"
  },
  "language_info": {
   "codemirror_mode": {
    "name": "ipython",
    "version": 3
   },
   "file_extension": ".py",
   "mimetype": "text/x-python",
   "name": "python",
   "nbconvert_exporter": "python",
   "pygments_lexer": "ipython3",
   "version": "3.10.8"
  }
 },
 "nbformat": 4,
 "nbformat_minor": 5
}
