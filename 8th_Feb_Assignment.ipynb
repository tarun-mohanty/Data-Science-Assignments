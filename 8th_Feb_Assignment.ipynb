{
 "cells": [
  {
   "cell_type": "markdown",
   "id": "dab751c8-7591-4d8f-a33a-4d215a02f6d2",
   "metadata": {},
   "source": [
    "Q1) What is Abstraction in OOps? Explain with an example."
   ]
  },
  {
   "cell_type": "markdown",
   "id": "1666a997-cb09-4d48-9ca0-725b5c22be76",
   "metadata": {},
   "source": [
    "Abstraction is the concept of object-oriented programming that shows only essential attributes and hides unnecessary information from the user.\n"
   ]
  },
  {
   "cell_type": "code",
   "execution_count": 3,
   "id": "e2e08053-851c-4edf-91a5-22e356023c6f",
   "metadata": {},
   "outputs": [
    {
     "name": "stdout",
     "output_type": "stream",
     "text": [
      "This is model details of Thar\n"
     ]
    }
   ],
   "source": [
    "import abc\n",
    "class car:\n",
    "    \n",
    "    @abc.abstractmethod\n",
    "    def model_details(self):\n",
    "        pass\n",
    "    \n",
    "    @abc.abstractmethod\n",
    "    def functional_details(self):\n",
    "        pass\n",
    "    \n",
    "class Thar(car):\n",
    "    def model_details(self):\n",
    "        print('This is model details of Thar')\n",
    "        \n",
    "a=Thar()\n",
    "a.model_details()"
   ]
  },
  {
   "cell_type": "markdown",
   "id": "7b96f633-7e36-4b6b-b480-d79e11a34574",
   "metadata": {},
   "source": [
    "Q2) Differentiate between Abstraction and Encapsulation. Explain with an example."
   ]
  },
  {
   "cell_type": "markdown",
   "id": "575081f7-8997-479d-8145-1cc4754f594b",
   "metadata": {},
   "source": [
    "Abstraction shows only essential attributes and hides implementation from the user. \n",
    "Encapsulation is a way of hiding the complexity of something and exposing only the parts you wish to expose\n",
    "\n",
    "A class that has one or more private fields that you use to store the data, is an example of encapsulation.\n",
    "A class that consists of one or more abstract method is an example of abstraction"
   ]
  },
  {
   "cell_type": "markdown",
   "id": "434941fd-1351-4de9-8d77-0cdfd27cbc2e",
   "metadata": {},
   "source": [
    "Q3) What is abc module in python? Why is it used?"
   ]
  },
  {
   "cell_type": "markdown",
   "id": "a45d9456-f913-4b8f-ae81-485636ec06c6",
   "metadata": {},
   "source": [
    "The abc module provides the infrastructure for defining custom abstract base classes."
   ]
  },
  {
   "cell_type": "markdown",
   "id": "0f12fcf8-b2ad-4bc2-a43d-d3aa9735fa55",
   "metadata": {},
   "source": [
    "Q4) How can we achieve data abstraction?"
   ]
  },
  {
   "cell_type": "markdown",
   "id": "cc0e763f-7fa6-437b-9306-c04ba5f74c80",
   "metadata": {},
   "source": [
    "Data Abstraction in Python can be achieved through creating abstract classes and inheriting them later"
   ]
  },
  {
   "cell_type": "markdown",
   "id": "4051e4d6-f505-456a-b0ec-f93b0b2be0e9",
   "metadata": {},
   "source": [
    "Q5) Can we create an instance of an abstract class? Explain your answer."
   ]
  },
  {
   "cell_type": "markdown",
   "id": "0b5d538c-3529-44e1-9cd7-a84b34dd2699",
   "metadata": {},
   "source": [
    "Abstract class cannot be instantiated in python. An Abstract method can be call by its subclasses."
   ]
  },
  {
   "cell_type": "code",
   "execution_count": null,
   "id": "4461e65c-ed45-4520-814f-dbcc9a3cef5a",
   "metadata": {},
   "outputs": [],
   "source": []
  }
 ],
 "metadata": {
  "kernelspec": {
   "display_name": "Python 3 (ipykernel)",
   "language": "python",
   "name": "python3"
  },
  "language_info": {
   "codemirror_mode": {
    "name": "ipython",
    "version": 3
   },
   "file_extension": ".py",
   "mimetype": "text/x-python",
   "name": "python",
   "nbconvert_exporter": "python",
   "pygments_lexer": "ipython3",
   "version": "3.10.8"
  }
 },
 "nbformat": 4,
 "nbformat_minor": 5
}
