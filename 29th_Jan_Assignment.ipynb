{
 "cells": [
  {
   "cell_type": "markdown",
   "id": "f67ad016-691f-471d-877e-704114df54f0",
   "metadata": {},
   "source": [
    "29th Jan Assignment"
   ]
  },
  {
   "cell_type": "markdown",
   "id": "37a0b0fd-cf65-44e3-b32d-31719a42f265",
   "metadata": {},
   "source": [
    "1. Who developed Python Programming Language?\n",
    "A: Guido Van Rossum developed Python Programming Language.\n",
    "\n",
    "2. Which type of Programming does Python support? \n",
    "A: Python supports structured, object-oriented and functional programming.\n",
    "\n",
    "3. Is Python case sensitive when dealing with identifiers? \n",
    "A: Yes, Python is case sensitive.\n",
    "\n",
    "4. What is the correct extension of the Python file? \n",
    "A: .py is the extension of Python file.\n",
    "\n",
    "5. Is Python code compiled or interpreted? \n",
    "A: Python is both compiled and interpreted.\n",
    "\n",
    "6. Name a few blocks of code used to define in Python language? \n",
    "A: Indentation\n",
    "\n",
    "7. State a character used to give single-line comments in Python? \n",
    "A: #\n",
    "\n",
    "8. Mention functions which can help us to find the version of python that we are currently working on? \n",
    "A: sys.version\n",
    "\n",
    "9. Python supports the creation of anonymous functions at runtime, using a construct called\n",
    "A: lambda\n",
    "\n",
    "10. What does pip stand for python? \n",
    "A: Preferred Installer Program\n",
    "\n",
    "11. Mention a few built-in functions in python?\n",
    "A: print(), input()\n",
    "\n",
    "12. What is the maximum possible length of an identifier in Python? \n",
    "A: Identifier can be of any length.\n",
    "\n",
    "13. What are the benefits of using Python? \n",
    "A: easy to use, big collection of packages\n",
    "\n",
    "14. How is memory managed in Python?\n",
    "A: By the help of Python memory manager\n",
    "\n",
    "15. How to install Python on Windows and set path variables?\n",
    "A: Download from Python official site and Install, During installation check the option Add Python to Path.\n",
    "\n",
    "16. Is indentation required in python? \n",
    "A: Yes"
   ]
  }
 ],
 "metadata": {
  "kernelspec": {
   "display_name": "Python 3 (ipykernel)",
   "language": "python",
   "name": "python3"
  },
  "language_info": {
   "codemirror_mode": {
    "name": "ipython",
    "version": 3
   },
   "file_extension": ".py",
   "mimetype": "text/x-python",
   "name": "python",
   "nbconvert_exporter": "python",
   "pygments_lexer": "ipython3",
   "version": "3.10.8"
  }
 },
 "nbformat": 4,
 "nbformat_minor": 5
}
