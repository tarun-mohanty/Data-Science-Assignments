{
 "cells": [
  {
   "cell_type": "markdown",
   "id": "9913b915-bb7f-4f43-aebc-003798b589ba",
   "metadata": {},
   "source": [
    "Q1) Create a function which will take a list as an argument and return the product of all the numbers  after creating a flat list. \n",
    "Use the below-given list as an argument for your function. \n",
    "\n",
    "list1 = [1,2,3,4, [44,55,66, True], False, (34,56,78,89,34), {1,2,3,3,2,1}, {1:34, \"key2\": [55, 67, 78, 89], 4: (45,  22, 61, 34)}, [56, 'data science'], 'Machine Learning'] \n",
    "\n",
    "Note: you must extract numeric keys and values of the dictionary also. \n"
   ]
  },
  {
   "cell_type": "code",
   "execution_count": 14,
   "id": "e1017b74-0d34-4752-aa77-a2d125408f65",
   "metadata": {},
   "outputs": [
    {
     "data": {
      "text/plain": [
       "4134711838987085478833841242112000"
      ]
     },
     "execution_count": 14,
     "metadata": {},
     "output_type": "execute_result"
    }
   ],
   "source": [
    "list1 = [1,2,3,4, [44,55,66, True], False, (34,56,78,89,34), {1,2,3,3,2,1}, {1:34, \"key2\": [55, 67, 78, 89], 4: (45, 22, 61, 34)}, [56, 'data science'], 'Machine Learning']\n",
    "\n",
    "def extract_num_and_do_product(l):\n",
    "    l1=[]\n",
    "    for i in l:\n",
    "        if type(i)==int:\n",
    "            l1.append(i)\n",
    "        elif type(i)==list:\n",
    "            for j in i:\n",
    "                if type(j)==int:\n",
    "                    l1.append(j)\n",
    "        elif type(i)==tuple:\n",
    "            for j in i:\n",
    "                if type(j)==int:\n",
    "                    l1.append(j)\n",
    "        elif type(i)==set:\n",
    "            for j in i:\n",
    "                if type(j)==int:\n",
    "                    l1.append(j)\n",
    "        elif type(i)==dict:\n",
    "            for k,v in i.items():\n",
    "                if type(k)==int:\n",
    "                    l1.append(k)\n",
    "                if type(v)==int:\n",
    "                    l1.append(v)\n",
    "                elif type(v)==list:\n",
    "                    for j in v:\n",
    "                        if type(j)==int:\n",
    "                            l1.append(j)\n",
    "                elif type(v)==set:\n",
    "                    for j in v:\n",
    "                        if type(j)==int:\n",
    "                            l1.append(j)\n",
    "                elif type(v)==tuple:\n",
    "                    for j in v:\n",
    "                        if type(j)==int:\n",
    "                            l1.append(j)\n",
    "    product=1\n",
    "    \n",
    "    for i in l1:\n",
    "        product*=i\n",
    "    return product\n",
    "\n",
    "extract_num_and_do_product(list1)"
   ]
  },
  {
   "cell_type": "markdown",
   "id": "3bd85e5f-0511-469e-8746-9e0046bbbf22",
   "metadata": {},
   "source": [
    "Q2) Write a python program for encrypting a message sent to you by your friend. The logic of encryption  should be such that, for a the output should be z. For b, the output should be y. For c, the output should  be x respectively. Also, the whitespace should be replaced with a dollar sign. Keep the punctuation  marks unchanged.\n",
    "\n",
    "Input Sentence: I want to become a Data Scientist. \n",
    "\n",
    "Encrypt the above input sentence using the program you just created. \n",
    "Note: Convert the given input sentence into lowercase before encrypting. The final output should be  lowercase.\n"
   ]
  },
  {
   "cell_type": "code",
   "execution_count": 37,
   "id": "826b55bc-414a-4887-9add-f05f2581a2e1",
   "metadata": {},
   "outputs": [
    {
     "name": "stdin",
     "output_type": "stream",
     "text": [
      "Enter your sentence : I want to become a Data Scientist.\n"
     ]
    },
    {
     "name": "stdout",
     "output_type": "stream",
     "text": [
      "Your Encrypted Sentece is :  r$dzmg$gl$yvxlnv$z$wzgz$hxrvmgrhg.\n"
     ]
    }
   ],
   "source": [
    "string=input('Enter your sentence :')\n",
    "ch_forward=[chr(i) for i in range(97,123)]\n",
    "ch_backward=[chr(i) for i in range(122,96,-1)]\n",
    "d={k:v for k,v in zip(ch_forward,ch_backward)}\n",
    "\n",
    "l1=[]\n",
    "for x in string.lower():\n",
    "    if x in ch_forward:\n",
    "        l1.append(d[x])\n",
    "        \n",
    "    elif x==' ':\n",
    "        l1.append('$')\n",
    "    else:\n",
    "        l1.append(x)\n",
    "\n",
    "print(\"Your Encrypted Sentece is : \",\"\".join(l1))"
   ]
  },
  {
   "cell_type": "code",
   "execution_count": null,
   "id": "68227817-8071-4bc3-9147-118cdba3751c",
   "metadata": {},
   "outputs": [],
   "source": []
  }
 ],
 "metadata": {
  "kernelspec": {
   "display_name": "Python 3 (ipykernel)",
   "language": "python",
   "name": "python3"
  },
  "language_info": {
   "codemirror_mode": {
    "name": "ipython",
    "version": 3
   },
   "file_extension": ".py",
   "mimetype": "text/x-python",
   "name": "python",
   "nbconvert_exporter": "python",
   "pygments_lexer": "ipython3",
   "version": "3.10.8"
  }
 },
 "nbformat": 4,
 "nbformat_minor": 5
}
